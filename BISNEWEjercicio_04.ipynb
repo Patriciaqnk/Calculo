{
 "cells": [
  {
   "cell_type": "markdown",
   "metadata": {},
   "source": [
    "# Métodos de bisección y Newton\n",
    "\n",
    "### Ejercicio 4. \n",
    "### Localiza y separa las raíces de la ecuación\n",
    "\n",
    "### $$x^2=-10\\cos(x)$$\n",
    "\n",
    "### Calcula aproximadamente las soluciones mediante el método de bisección, con error absoluto menor que $10^{-4}$."
   ]
  },
  {
   "cell_type": "markdown",
   "metadata": {},
   "source": [
    "SOLUCIÓN\n",
    "\n",
    "### Paso 1. Localizar y separar las raíces.\n",
    "\n",
    "Vamos a representar la función $f(x)=x^2+10\\cos(x)$ para ver si localizamos  las raices de la ecuación $$x^2+10\\cos(x)=0$$\n",
    "\n",
    "Observad que son los $x$  donde su gráfica corta al eje $OX$. Definimos la función:"
   ]
  },
  {
   "cell_type": "code",
   "execution_count": 1,
   "metadata": {},
   "outputs": [
    {
     "data": {
      "text/plain": [
       "x |--> x^2 + 10*cos(x)"
      ]
     },
     "execution_count": 1,
     "metadata": {},
     "output_type": "execute_result"
    }
   ],
   "source": [
    "f(x)=x^2+10*cos(x)\n",
    "f"
   ]
  },
  {
   "cell_type": "markdown",
   "metadata": {},
   "source": [
    "Como $-10 \\cos (x)$  toma valores entre -10 y 10, las raíces estarán en $[-\\sqrt{10}, \\sqrt{10}]$. Como $\\sqrt{10} $ es menor que 4, hagamos la gráfica $y=f(x)$ en el intervalo $[-4,4]$:"
   ]
  },
  {
   "cell_type": "code",
   "execution_count": 2,
   "metadata": {},
   "outputs": [
    {
     "data": {
      "image/png": "[encoded data removed]",
      "text/plain": [
       "Graphics object consisting of 1 graphics primitive"
      ]
     },
     "execution_count": 2,
     "metadata": {},
     "output_type": "execute_result"
    }
   ],
   "source": [
    "plot(f(x),(x,-4,4))"
   ]
  },
  {
   "cell_type": "markdown",
   "metadata": {},
   "source": [
    "Por una lado, observamos que la gráfica es simétrica respecto al eje Y. Esto se debe a que $f(x)=x^2+10\\cos(x)=(-x)^2+10\\cos(-x)=f(-x)$. Entonces, si $x$ es raíz, $-x$ también.\n",
    "Por otro lado, observamos que la ecuación $f(x)=0$ tiene cuatro raíces.\n",
    "\n",
    "Hay una raíz en cada uno de los intervalos siguientes: $[-4,-3]$, $[-2.5,-1.5]$ , $[1.5,2.5]$ y $[3,4]$. Por simetría, las raíces en $[-4,-3]$ y $[3,4]$ son iguales en valor absoluto y las raíces en $[-2.5,-1.5]$ y $[1.5,2.5]$ son iguales en valor absoluto.\n",
    "\n",
    "### Paso 2. Método de bisección\n",
    "\n",
    "Vamos a calcular aproximadamente, mediante el método de bisección y con error menor que $10^{-5}$, las soluciones que hay en los intervalos $[1.5,2.5]$ y $[3, 4]$ .\n",
    "\n",
    "El número $N$ de pasos del método de bisección que tenemos que dar para alcanzar la precisión deseada debe cumplir\n",
    "$\\displaystyle N>\\dfrac{\\log\\left(\\frac{b-a}{\\varepsilon}\\right)}{\\log 2}-1$\n",
    "</span></p>\n",
    "Empecemos con el intervalo $[1.5,2.5]$: $a=1.5$, $b=2.5$ y $\\varepsilon=10^{-5}$. Calculamos el número de pasos:"
   ]
  },
  {
   "cell_type": "code",
   "execution_count": 3,
   "metadata": {},
   "outputs": [
    {
     "data": {
      "text/plain": [
       "15.6096404744368"
      ]
     },
     "execution_count": 3,
     "metadata": {},
     "output_type": "execute_result"
    }
   ],
   "source": [
    "a=1.5\n",
    "b=2.5\n",
    "epsilon=10^(-5)\n",
    "numerical_approx(log((b-a)/epsilon)/log(2)-1)"
   ]
  },
  {
   "cell_type": "markdown",
   "metadata": {},
   "source": [
    "<p>Luego serán necesarios, como mucho, $N=16$ pasos.</p>\n",
    "<p>Vamos a realizar algunos de los primeros \"a mano\".</p>\n",
    "Paso 0.</span> Definimos $a_0=a$, $b_0=b$, $c_0=\\dfrac{a_0+b_0}{2}$:"
   ]
  },
  {
   "cell_type": "code",
   "execution_count": 4,
   "metadata": {},
   "outputs": [
    {
     "data": {
      "text/plain": [
       "2.00000000000000"
      ]
     },
     "execution_count": 4,
     "metadata": {},
     "output_type": "execute_result"
    }
   ],
   "source": [
    "a0=a\n",
    "b0=b\n",
    "c0=(a0+b0)/2\n",
    "c0"
   ]
  },
  {
   "cell_type": "markdown",
   "metadata": {},
   "source": [
    "<p>y evaluamos la función en $a_0$, $c_0$ y $b_0$ para ver dónde se produce el cambio de signo:</p>"
   ]
  },
  {
   "cell_type": "code",
   "execution_count": 5,
   "metadata": {},
   "outputs": [
    {
     "data": {
      "text/plain": [
       "(2.95737201667703, -0.161468365471424, -1.76143615546934)"
      ]
     },
     "execution_count": 5,
     "metadata": {},
     "output_type": "execute_result"
    }
   ],
   "source": [
    " f(a0) ,  f(c0) , f(b0) "
   ]
  },
  {
   "cell_type": "markdown",
   "metadata": {},
   "source": [
    "<p>Como $f(a_0)$ y $f(c_0)$ tienen signos opuestos, definimos $a_1=a_0$, $b_1=c_0$ y vamos al siguiente paso.</p>"
   ]
  },
  {
   "cell_type": "code",
   "execution_count": 6,
   "metadata": {},
   "outputs": [],
   "source": [
    "a1=a0;b1=c0"
   ]
  },
  {
   "cell_type": "markdown",
   "metadata": {},
   "source": [
    "Paso 1. Definimos $c_1=\\dfrac{a_1+b_1}{2}$:"
   ]
  },
  {
   "cell_type": "code",
   "execution_count": 7,
   "metadata": {},
   "outputs": [
    {
     "data": {
      "text/plain": [
       "1.75000000000000"
      ]
     },
     "execution_count": 7,
     "metadata": {},
     "output_type": "execute_result"
    }
   ],
   "source": [
    "c1=(a1+b1)/2;  c1"
   ]
  },
  {
   "cell_type": "markdown",
   "metadata": {},
   "source": [
    "y evaluamos la función en $a_1$, $c_1$ y $b_1$ para ver dónde se produce el cambio de signo:"
   ]
  },
  {
   "cell_type": "code",
   "execution_count": 8,
   "metadata": {},
   "outputs": [
    {
     "data": {
      "text/plain": [
       "(2.95737201667703, 1.28003944350508, -0.161468365471424)"
      ]
     },
     "execution_count": 8,
     "metadata": {},
     "output_type": "execute_result"
    }
   ],
   "source": [
    "f(a1),f(c1),f(b1)"
   ]
  },
  {
   "cell_type": "markdown",
   "metadata": {},
   "source": [
    "Como $f(b_1)$ y $f(c_1)$ tienen signos opuestos, definimos $a_2=c_1$, $b_2=b_1$ y vamos al siguiente paso."
   ]
  },
  {
   "cell_type": "code",
   "execution_count": 9,
   "metadata": {},
   "outputs": [],
   "source": [
    "a2=c1;b2=b1"
   ]
  },
  {
   "cell_type": "markdown",
   "metadata": {},
   "source": [
    "Paso 2. Definimos $c_2=\\dfrac{a_2+b_2}{2}$:"
   ]
  },
  {
   "cell_type": "code",
   "execution_count": 10,
   "metadata": {},
   "outputs": [
    {
     "data": {
      "text/plain": [
       "1.87500000000000"
      ]
     },
     "execution_count": 10,
     "metadata": {},
     "output_type": "execute_result"
    }
   ],
   "source": [
    "c2=(a2+b2)/2;  c2"
   ]
  },
  {
   "cell_type": "markdown",
   "metadata": {},
   "source": [
    "y evaluamos la función en $a_2$, $c_2$ y $b_2$ para ver dónde se produce el cambio de signo:"
   ]
  },
  {
   "cell_type": "code",
   "execution_count": 11,
   "metadata": {},
   "outputs": [
    {
     "data": {
      "text/plain": [
       "(1.28003944350508, 0.520289938104259, -0.161468365471424)"
      ]
     },
     "execution_count": 11,
     "metadata": {},
     "output_type": "execute_result"
    }
   ],
   "source": [
    "f(a2) ,f(c2) ,f(b2)"
   ]
  },
  {
   "cell_type": "markdown",
   "metadata": {},
   "source": [
    "Como $f(c_2)$ y $f(b_2)$ tienen signos opuestos, definimos $a_3=c_2$, $b_3=b_2$ y vamos al siguiente paso."
   ]
  },
  {
   "cell_type": "code",
   "execution_count": 12,
   "metadata": {},
   "outputs": [],
   "source": [
    "a3=c2;b3=b2"
   ]
  },
  {
   "cell_type": "markdown",
   "metadata": {},
   "source": [
    "<p>etc. etc.</p>\n",
    "<p>Continuaríamos el proceso hasta calcular $c_{16}$ como mucho.</p>\n",
    "<p>Podemos automatizar la tarea del modo siguiente:</p>"
   ]
  },
  {
   "cell_type": "code",
   "execution_count": 13,
   "metadata": {},
   "outputs": [
    {
     "data": {
      "text/plain": [
       "(1.50000000000000, 2.50000000000000)"
      ]
     },
     "execution_count": 13,
     "metadata": {},
     "output_type": "execute_result"
    }
   ],
   "source": [
    "a,b"
   ]
  },
  {
   "cell_type": "code",
   "execution_count": 14,
   "metadata": {},
   "outputs": [
    {
     "name": "stdout",
     "output_type": "stream",
     "text": [
      "16\n"
     ]
    }
   ],
   "source": [
    "contador=0\n",
    "a0=a\n",
    "b0=b\n",
    "c0=(b0+a0)/2\n",
    "while abs(f(c0))>0 and contador<16:\n",
    "    if f(a0)*f(c0)<0:\n",
    "        b0=c0\n",
    "        c0=(b0+a0)/2  \n",
    "    else:\n",
    "        a0=c0\n",
    "        c0=(b0+a0)/2\n",
    "    contador=contador+1\n",
    "print(contador)"
   ]
  },
  {
   "cell_type": "markdown",
   "metadata": {},
   "source": [
    "Al haber llegado a la iteración 16, facilmente no hayamos llegado a la solución exacta. Comprobamos:"
   ]
  },
  {
   "cell_type": "code",
   "execution_count": 15,
   "metadata": {},
   "outputs": [
    {
     "data": {
      "text/html": [
       "<html><script type=\"math/tex; mode=display\">\\newcommand{\\Bold}[1]{\\mathbf{#1}}1.96887969970703</script></html>"
      ],
      "text/plain": [
       "1.96887969970703"
      ]
     },
     "metadata": {},
     "output_type": "display_data"
    },
    {
     "data": {
      "text/html": [
       "<html><script type=\"math/tex; mode=display\">\\newcommand{\\Bold}[1]{\\mathbf{#1}}1.9688729378198275</script></html>"
      ],
      "text/plain": [
       "1.9688729378198275"
      ]
     },
     "metadata": {},
     "output_type": "display_data"
    },
    {
     "data": {
      "text/html": [
       "<html><script type=\"math/tex; mode=display\">\\newcommand{\\Bold}[1]{\\mathbf{#1}}6.76188720372117 \\times 10^{-6}</script></html>"
      ],
      "text/plain": [
       "6.76188720372117e-6"
      ]
     },
     "metadata": {},
     "output_type": "display_data"
    },
    {
     "data": {
      "text/plain": [
       "True"
      ]
     },
     "execution_count": 15,
     "metadata": {},
     "output_type": "execute_result"
    }
   ],
   "source": [
    "show(c0)\n",
    "show(find_root(f(x),a,b))\n",
    "show(c0-find_root(f(x),a,b))\n",
    "abs(c0-find_root(f(x),a,b)) < epsilon"
   ]
  },
  {
   "cell_type": "markdown",
   "metadata": {},
   "source": [
    "Por tanto, $c_{16}=1.96887969970703$ es una aproximación de la raíz positiva de la ecuación $x^2+10\\cos x=0$ con error absoluto menor que $10^{-5}$.\n",
    "En este caso, por tratarse de una función par,  otra raíz sería  $-1.96887969970703$.\n",
    "\n",
    "Ahora aproximamos la raíz en $[3,4]$. El número $N$ de pasos es igual porque $b-a=1$ en los intevalos considerados:"
   ]
  },
  {
   "cell_type": "code",
   "execution_count": 16,
   "metadata": {},
   "outputs": [
    {
     "data": {
      "text/plain": [
       "15.6096404744368"
      ]
     },
     "execution_count": 16,
     "metadata": {},
     "output_type": "execute_result"
    }
   ],
   "source": [
    "a=3\n",
    "b=4\n",
    "epsilon=10^(-5)\n",
    "numerical_approx(log((b-a)/epsilon)/log(2)-1)"
   ]
  },
  {
   "cell_type": "code",
   "execution_count": 17,
   "metadata": {},
   "outputs": [
    {
     "name": "stdout",
     "output_type": "stream",
     "text": [
      "16\n"
     ]
    }
   ],
   "source": [
    "contador=0\n",
    "a0=a\n",
    "b0=b\n",
    "c0=(b0+a0)/2\n",
    "while abs(f(c0))>0 and contador<16:\n",
    "    if f(a0)*f(c0)<0:\n",
    "        b0=c0\n",
    "        c0=(b0+a0)/2  \n",
    "    else:\n",
    "        a0=c0\n",
    "        c0=(b0+a0)/2\n",
    "    contador=contador+1\n",
    "print(contador)"
   ]
  },
  {
   "cell_type": "markdown",
   "metadata": {},
   "source": [
    "<p>Al haber llegado a la iteración 16, fácilmente no hayamos llegado a la solución dada por SAGE. Comprobamos.</p>"
   ]
  },
  {
   "cell_type": "code",
   "execution_count": 18,
   "metadata": {},
   "outputs": [
    {
     "data": {
      "text/html": [
       "<html><script type=\"math/tex; mode=display\">\\newcommand{\\Bold}[1]{\\mathbf{#1}}3.16194915771484</script></html>"
      ],
      "text/plain": [
       "3.16194915771484"
      ]
     },
     "metadata": {},
     "output_type": "display_data"
    },
    {
     "data": {
      "text/html": [
       "<html><script type=\"math/tex; mode=display\">\\newcommand{\\Bold}[1]{\\mathbf{#1}}3.161950024710255</script></html>"
      ],
      "text/plain": [
       "3.161950024710255"
      ]
     },
     "metadata": {},
     "output_type": "display_data"
    },
    {
     "data": {
      "text/html": [
       "<html><script type=\"math/tex; mode=display\">\\newcommand{\\Bold}[1]{\\mathbf{#1}}-8.669954114637335 \\times 10^{-07}</script></html>"
      ],
      "text/plain": [
       "-8.669954114637335e-07"
      ]
     },
     "metadata": {},
     "output_type": "display_data"
    },
    {
     "data": {
      "text/plain": [
       "True"
      ]
     },
     "execution_count": 18,
     "metadata": {},
     "output_type": "execute_result"
    }
   ],
   "source": [
    "show(numerical_approx(c0))\n",
    "show(find_root(f(x),a,b))\n",
    "show(c0-find_root(f(x),a,b))\n",
    "c0-find_root(f(x),a,b) < epsilon"
   ]
  },
  {
   "cell_type": "markdown",
   "metadata": {},
   "source": [
    "<p>Entonces la solución aproximada hallada es  3.16194915771484. La otra sería -3.16194915771484</p>"
   ]
  },
  {
   "cell_type": "code",
   "execution_count": null,
   "metadata": {},
   "outputs": [],
   "source": []
  }
 ],
 "metadata": {
  "kernelspec": {
   "display_name": "SageMath 9.0",
   "language": "sage",
   "name": "sagemath"
  },
  "language": "python",
  "language_info": {
   "codemirror_mode": {
    "name": "ipython",
    "version": 3
   },
   "file_extension": ".py",
   "mimetype": "text/x-python",
   "name": "python",
   "nbconvert_exporter": "python",
   "pygments_lexer": "ipython3",
   "version": "3.8.10"
  }
 },
 "nbformat": 4,
 "nbformat_minor": 4
}
