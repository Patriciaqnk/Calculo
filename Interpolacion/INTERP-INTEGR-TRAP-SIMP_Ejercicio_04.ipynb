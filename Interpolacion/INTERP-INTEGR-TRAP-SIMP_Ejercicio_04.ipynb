{
 "cells": [
  {
   "cell_type": "markdown",
   "metadata": {},
   "source": [
    "# Interpolación. Integración numérica: métodos del Trapacio y Simpson.\n",
    "\n",
    "# Interpolación de Lagrange.\n",
    "\n",
    "\n",
    "### Ejercicio 4.\n",
    "\n",
    "### Se quiere aproximar la función $f(x) = \\sin(x/2)$ en el intervalo $[0,2]$ mediante un polinomio interpolador de Lagrange en nodos equiespaciados, con error absoluto menor que $0.1$. \n",
    " \n",
    "### (a) Calcula un tal polinomio.\n",
    " \n",
    "### (b) Llamando $P(x)$ al polinomio calculado en el apartado anterior, representa gráficamente $f(x)$, $P(x)$ y la \"función error\" $|f(x)-P(x)|$ en el intervalo $[0,2]$."
   ]
  },
  {
   "cell_type": "markdown",
   "metadata": {},
   "source": [
    "SOLUCIÓN\n",
    "\n",
    "### a) Calcula un tal polinomio.\n",
    "\n",
    "Recordamos que la <strong>función error real</strong> se puede acotar por una <strong>función cota del error</strong> y que ésta a su vez tiene una <strong>cota superior numérica del error</strong> como sigue:\n",
    "$$\n",
    "\t\\boxed{| f(x)-P(x)| \\leq \\dfrac{M}{(n+1)!}\\prod_{i=0}^n| {x}-x_i| \\leq \\dfrac{M}{(n+1)!}(b-a)^{n+1}}\n",
    "\t\\quad\n",
    "\t\\mbox{para todo } {x}\\in [a,b].\n",
    "$$\n",
    "\n",
    "donde $M>0$ cumple $\\big|f^{(n+1)}(x)\\big|\\leq M$ para todo $x\\in [x_0,x_n]$."
   ]
  },
  {
   "cell_type": "markdown",
   "metadata": {},
   "source": [
    "En nuestro caso concreto, nuestra <strong>cota superior numérica del error</strong> debe cumplir\n",
    "$$ cota(n)=\\dfrac{M}{(n+1)!}(b-a)^{n+1} \\leq 0.1$$\n",
    "para todo $x\\in [a,b]=[0,2]$.\n",
    "Comenzamos definiendo la función $f(x) = \\sin(x/2)$."
   ]
  },
  {
   "cell_type": "code",
   "execution_count": 1,
   "metadata": {},
   "outputs": [
    {
     "data": {
      "text/html": [
       "<html><script type=\"math/tex; mode=display\">\\newcommand{\\Bold}[1]{\\mathbf{#1}}\\sin\\left(\\frac{1}{2} \\, x\\right)</script></html>"
      ],
      "text/plain": [
       "sin(1/2*x)"
      ]
     },
     "metadata": {},
     "output_type": "display_data"
    }
   ],
   "source": [
    "f(x)=sin(x/2)\n",
    "show(f(x))"
   ]
  },
  {
   "cell_type": "markdown",
   "metadata": {},
   "source": [
    "En este tipo de ejercicios, la cota numérica tendrá como variable $n$ acorde a los datos del problema. \n",
    "La mayor dificultad es acotar $M$. Veamos como son las derivadas sucesivas de la función."
   ]
  },
  {
   "cell_type": "code",
   "execution_count": 13,
   "metadata": {},
   "outputs": [
    {
     "data": {
      "text/html": [
       "<html>\\(\\displaystyle \\frac{1}{2} \\, \\cos\\left(\\frac{1}{2} \\, x\\right)\\)</html>"
      ],
      "text/latex": [
       "$\\displaystyle \\frac{1}{2} \\, \\cos\\left(\\frac{1}{2} \\, x\\right)$"
      ],
      "text/plain": [
       "1/2*cos(1/2*x)"
      ]
     },
     "metadata": {},
     "output_type": "display_data"
    },
    {
     "data": {
      "text/html": [
       "<html>\\(\\displaystyle -\\frac{1}{4} \\, \\sin\\left(\\frac{1}{2} \\, x\\right)\\)</html>"
      ],
      "text/latex": [
       "$\\displaystyle -\\frac{1}{4} \\, \\sin\\left(\\frac{1}{2} \\, x\\right)$"
      ],
      "text/plain": [
       "-1/4*sin(1/2*x)"
      ]
     },
     "metadata": {},
     "output_type": "display_data"
    },
    {
     "data": {
      "text/html": [
       "<html>\\(\\displaystyle -\\frac{1}{8} \\, \\cos\\left(\\frac{1}{2} \\, x\\right)\\)</html>"
      ],
      "text/latex": [
       "$\\displaystyle -\\frac{1}{8} \\, \\cos\\left(\\frac{1}{2} \\, x\\right)$"
      ],
      "text/plain": [
       "-1/8*cos(1/2*x)"
      ]
     },
     "metadata": {},
     "output_type": "display_data"
    },
    {
     "data": {
      "text/html": [
       "<html>\\(\\displaystyle \\frac{1}{16} \\, \\sin\\left(\\frac{1}{2} \\, x\\right)\\)</html>"
      ],
      "text/latex": [
       "$\\displaystyle \\frac{1}{16} \\, \\sin\\left(\\frac{1}{2} \\, x\\right)$"
      ],
      "text/plain": [
       "1/16*sin(1/2*x)"
      ]
     },
     "metadata": {},
     "output_type": "display_data"
    }
   ],
   "source": [
    "show(diff(f(x),x,1))\n",
    "show(diff(f(x),x,2))\n",
    "show(diff(f(x),x,3))\n",
    "show(diff(f(x),x,4))"
   ]
  },
  {
   "cell_type": "markdown",
   "metadata": {},
   "source": [
    "En este caso $M=M(n)$ y se calcula de la siguiente forma: \n",
    "$$f'(x)=\\dfrac{1}{2}\\cos(\\dfrac{x}{2}) \\to |f'(x)|\\leq \\dfrac{1}{2}=\\dfrac{1}{2^1}$$\n",
    "$$f''(x)=\\dfrac{-1}{4}\\sin(\\dfrac{x}{2}) \\to |f''(x)|\\leq \\dfrac{1}{4}=\\dfrac{1}{2^2}$$\n",
    "$$f'''(x)=\\dfrac{-1}{8}\\cos(\\dfrac{x}{2}) \\to |f'''(x)|\\leq \\dfrac{1}{8}=\\dfrac{1}{2^3}$$\n",
    "$$\\vdots$$\n",
    "De esta forma,\n",
    "$$|f^{(n+1)}(x)|\\leq \\dfrac{1}{2^{n+1}} \\to M=M(n)= \\dfrac{1}{2^{n+1}}$$ \n",
    "\n",
    "Además, puesto que estamos en el intervalo $[0,2]$, \n",
    "$$ cota(n)=\\dfrac{M}{(n+1)!}(b-a)^{n+1}= \\dfrac{1/2^{n+1}}{(n+1)!}(2-0)^{n+1}=\\dfrac{2^{n+1}}{2^{n+1}(n+1)!}=\\dfrac{1}{(n+1)!} \\leq 0.1$$"
   ]
  },
  {
   "cell_type": "code",
   "execution_count": 4,
   "metadata": {},
   "outputs": [
    {
     "data": {
      "text/plain": [
       "3"
      ]
     },
     "execution_count": 4,
     "metadata": {},
     "output_type": "execute_result"
    }
   ],
   "source": [
    "cota(n)=1/factorial(n+1) \n",
    "\n",
    "n=0\n",
    "while cota(n)>=0.1:\n",
    "    n=n+1\n",
    "n"
   ]
  },
  {
   "cell_type": "markdown",
   "metadata": {},
   "source": [
    "Vemos que efectivamente la cota con $n=3$ es menor que $0.1$."
   ]
  },
  {
   "cell_type": "code",
   "execution_count": 5,
   "metadata": {},
   "outputs": [
    {
     "data": {
      "text/plain": [
       "(0.500000000000000, 0.166666666666667, 0.0416666666666667)"
      ]
     },
     "execution_count": 5,
     "metadata": {},
     "output_type": "execute_result"
    }
   ],
   "source": [
    "cota(1).n(), cota(2).n(), cota(3).n()"
   ]
  },
  {
   "cell_type": "markdown",
   "metadata": {},
   "source": [
    "A partir de aquí, realizamos el problema como los anteriores, es decir, definimos los nodos, los puntos donde el polinomio de interpolación de Lagrange actúa y el polinomio interpolador."
   ]
  },
  {
   "cell_type": "code",
   "execution_count": 6,
   "metadata": {},
   "outputs": [
    {
     "data": {
      "text/html": [
       "<html><script type=\"math/tex; mode=display\">\\newcommand{\\Bold}[1]{\\mathbf{#1}}\\left[0, \\frac{2}{3}, \\frac{4}{3}, 2\\right]</script></html>"
      ],
      "text/plain": [
       "[0, 2/3, 4/3, 2]"
      ]
     },
     "metadata": {},
     "output_type": "display_data"
    }
   ],
   "source": [
    "X=[2*k/n for k in range(0,n+1)]\n",
    "show(X)"
   ]
  },
  {
   "cell_type": "code",
   "execution_count": 7,
   "metadata": {},
   "outputs": [
    {
     "data": {
      "text/html": [
       "<html><script type=\"math/tex; mode=display\">\\newcommand{\\Bold}[1]{\\mathbf{#1}}\\left[\\left(0, 0\\right), \\left(\\frac{2}{3}, \\sin\\left(\\frac{1}{3}\\right)\\right), \\left(\\frac{4}{3}, \\sin\\left(\\frac{2}{3}\\right)\\right), \\left(2, \\sin\\left(1\\right)\\right)\\right]</script></html>"
      ],
      "text/plain": [
       "[(0, 0), (2/3, sin(1/3)), (4/3, sin(2/3)), (2, sin(1))]"
      ]
     },
     "metadata": {},
     "output_type": "display_data"
    }
   ],
   "source": [
    "XY=[(X[k],f(X[k])) for k in range(0,n+1)]\n",
    "show(XY)"
   ]
  },
  {
   "cell_type": "code",
   "execution_count": 8,
   "metadata": {},
   "outputs": [
    {
     "data": {
      "text/html": [
       "<html><script type=\"math/tex; mode=display\">\\newcommand{\\Bold}[1]{\\mathbf{#1}}-0.0180305628822326 \\, x^{3} - 0.00446091357342325 \\, x^{2} + 0.501779571079725 \\, x</script></html>"
      ],
      "text/plain": [
       "-0.0180305628822326*x^3 - 0.00446091357342325*x^2 + 0.501779571079725*x"
      ]
     },
     "metadata": {},
     "output_type": "display_data"
    }
   ],
   "source": [
    "P(x)=RR['x'].lagrange_polynomial(XY)\n",
    "show(P(x))"
   ]
  },
  {
   "cell_type": "markdown",
   "metadata": {},
   "source": [
    "### (b) Llamando $P(x)$ al polinomio calculado en el apartado anterior, representa gráficamente $f(x)$, $P(x)$ y la \"función error\" $|f(x)-P(x)|$ en el intervalo $[0,2]$.\n",
    "\n",
    "Comenzamos representando tanto la función, como el polinomio como los nodos de interpolación."
   ]
  },
  {
   "cell_type": "code",
   "execution_count": 9,
   "metadata": {},
   "outputs": [],
   "source": [
    "a=0\n",
    "b=2"
   ]
  },
  {
   "cell_type": "code",
   "execution_count": 12,
   "metadata": {},
   "outputs": [
    {
     "data": {
      "image/png": "[encoded data removed]",
      "text/plain": [
       "Graphics object consisting of 3 graphics primitives"
      ]
     },
     "execution_count": 12,
     "metadata": {},
     "output_type": "execute_result"
    }
   ],
   "source": [
    "point2d(XY,size=50,color='green')+plot(f,-1,3,color='red',legend_label='$y=f(x)$')+plot(P(x),(x,a,b),legend_label='$y=P(x)$',color='blue')"
   ]
  },
  {
   "cell_type": "markdown",
   "metadata": {},
   "source": [
    "La <strong>función cota del error</strong> es:\n",
    "$$\n",
    "\t\\boxed{error(x)=\\dfrac{M}{(n+1)!}\\prod_{i=0}^n| {x}-x_i|}\n",
    "\t\\quad\n",
    "\t\\mbox{para todo } {x}\\in [x_0,x_n].\n",
    "$$"
   ]
  },
  {
   "cell_type": "code",
   "execution_count": 13,
   "metadata": {},
   "outputs": [
    {
     "data": {
      "text/html": [
       "<html><script type=\"math/tex; mode=display\">\\newcommand{\\Bold}[1]{\\mathbf{#1}}\\frac{1}{384} \\, {\\left| x - \\frac{2}{3} \\right|} {\\left| x - \\frac{4}{3} \\right|} {\\left| x - 2 \\right|} {\\left| x \\right|}</script></html>"
      ],
      "text/plain": [
       "1/384*abs(x - 2/3)*abs(x - 4/3)*abs(x - 2)*abs(x)"
      ]
     },
     "metadata": {},
     "output_type": "display_data"
    }
   ],
   "source": [
    "error(x)=1/(2^(n+1))/factorial(n+1)*prod([abs(x-X[k]) for k in range(0,n+1)])\n",
    "show(error(x))"
   ]
  },
  {
   "cell_type": "code",
   "execution_count": 14,
   "metadata": {},
   "outputs": [
    {
     "data": {
      "image/png": "[encoded data removed]",
      "text/plain": [
       "Graphics object consisting of 2 graphics primitives"
      ]
     },
     "execution_count": 14,
     "metadata": {},
     "output_type": "execute_result"
    }
   ],
   "source": [
    "plot(abs(f(x)-P(x)),(x,0,2))+plot(error,(x,0,2),color='red')"
   ]
  },
  {
   "cell_type": "code",
   "execution_count": null,
   "metadata": {},
   "outputs": [],
   "source": []
  }
 ],
 "metadata": {
  "kernelspec": {
   "display_name": "SageMath 9.0",
   "language": "sage",
   "name": "sagemath"
  },
  "language_info": {
   "codemirror_mode": {
    "name": "ipython",
    "version": 3
   },
   "file_extension": ".py",
   "mimetype": "text/x-python",
   "name": "python",
   "nbconvert_exporter": "python",
   "pygments_lexer": "ipython3",
   "version": "3.8.10"
  }
 },
 "nbformat": 4,
 "nbformat_minor": 4
}
