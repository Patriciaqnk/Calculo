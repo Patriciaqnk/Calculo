{
 "cells": [
  {
   "cell_type": "markdown",
   "metadata": {},
   "source": [
    "# Interpolación. Integración numérica: métodos del Trapacio y Simpson.\n",
    "\n",
    "# Integración numérica: Método del Trapecio\n",
    "\n",
    "### Ejercicio 13.- Calculamos aproximadamente la integral $\\displaystyle \\int_{0}^{1} \\sqrt{3+\\cos(x^3)} \\, dx$ mediante el Método del Trapecio, con error absoluto menor que $10^{-3}$. Compara tu aproximación con la calculada por SAGE y representa gráficamente el problema.\n",
    "\n",
    "SOLUCIÓN\n",
    "\n",
    "Definimos la función $f(x)=\\sqrt{3+\\cos(x^3)}$. "
   ]
  },
  {
   "cell_type": "code",
   "execution_count": 1,
   "metadata": {},
   "outputs": [
    {
     "data": {
      "text/plain": [
       "x |--> sqrt(cos(x^3) + 3)"
      ]
     },
     "execution_count": 1,
     "metadata": {},
     "output_type": "execute_result"
    }
   ],
   "source": [
    "f(x)=sqrt(cos(x^3)+3)#definimos f\n",
    "f"
   ]
  },
  {
   "cell_type": "code",
   "execution_count": 2,
   "metadata": {},
   "outputs": [],
   "source": [
    "a=0;b=1;#definimos el intervalo"
   ]
  },
  {
   "cell_type": "markdown",
   "metadata": {},
   "source": [
    "Sabemos que <strong>la cota del error para el Método del Trapecio</strong> es la siguiente:\n",
    "$$\\displaystyle \\left|{\\rm Trapecio}_n(f)-\\int_a^b f(x) \\, dx\\right| \\leq \\dfrac{(b-a)^3}{12\\cdot n^2}\\cdot M,$$\n",
    "donde $M$ es una constante que cumpla $|f''(x)|\\leq M$ para todo $x\\in [a,b]$. \n",
    "\n",
    "Busquemos gráficamente $M$ y luego encontraremos $n$."
   ]
  },
  {
   "cell_type": "markdown",
   "metadata": {},
   "source": [
    "<p>Veamos qué área queremos calcular:</p>"
   ]
  },
  {
   "cell_type": "code",
   "execution_count": 3,
   "metadata": {},
   "outputs": [
    {
     "data": {
      "image/png": "[encoded data removed]",
      "text/plain": [
       "Graphics object consisting of 2 graphics primitives"
      ]
     },
     "execution_count": 3,
     "metadata": {},
     "output_type": "execute_result"
    }
   ],
   "source": [
    "plot(f,x,a,b,fill=true)"
   ]
  },
  {
   "cell_type": "markdown",
   "metadata": {},
   "source": [
    "Busquemos el $M$. Para eso, calculamos la segunda derivada y la acotamos."
   ]
  },
  {
   "cell_type": "code",
   "execution_count": 4,
   "metadata": {},
   "outputs": [
    {
     "data": {
      "text/html": [
       "<html>\\(\\displaystyle -\\frac{9 \\, x^{4} \\cos\\left(x^{3}\\right)}{2 \\, \\sqrt{\\cos\\left(x^{3}\\right) + 3}} - \\frac{9 \\, x^{4} \\sin\\left(x^{3}\\right)^{2}}{4 \\, {\\left(\\cos\\left(x^{3}\\right) + 3\\right)}^{\\frac{3}{2}}} - \\frac{3 \\, x \\sin\\left(x^{3}\\right)}{\\sqrt{\\cos\\left(x^{3}\\right) + 3}}\\)</html>"
      ],
      "text/latex": [
       "$\\displaystyle -\\frac{9 \\, x^{4} \\cos\\left(x^{3}\\right)}{2 \\, \\sqrt{\\cos\\left(x^{3}\\right) + 3}} - \\frac{9 \\, x^{4} \\sin\\left(x^{3}\\right)^{2}}{4 \\, {\\left(\\cos\\left(x^{3}\\right) + 3\\right)}^{\\frac{3}{2}}} - \\frac{3 \\, x \\sin\\left(x^{3}\\right)}{\\sqrt{\\cos\\left(x^{3}\\right) + 3}}$"
      ],
      "text/plain": [
       "-9/2*x^4*cos(x^3)/sqrt(cos(x^3) + 3) - 9/4*x^4*sin(x^3)^2/(cos(x^3) + 3)^(3/2) - 3*x*sin(x^3)/sqrt(cos(x^3) + 3)"
      ]
     },
     "metadata": {},
     "output_type": "display_data"
    }
   ],
   "source": [
    "show(derivative(f(x),x,2))"
   ]
  },
  {
   "cell_type": "code",
   "execution_count": 5,
   "metadata": {},
   "outputs": [
    {
     "data": {
      "image/png": "[encoded data removed]",
      "text/plain": [
       "Graphics object consisting of 2 graphics primitives"
      ]
     },
     "execution_count": 5,
     "metadata": {},
     "output_type": "execute_result"
    }
   ],
   "source": [
    "plot(abs(derivative(f(x),x,2)),(x,a,b))+plot(2.9,a,b,color='red')"
   ]
  },
  {
   "cell_type": "markdown",
   "metadata": {},
   "source": [
    " Para determinar el número $n$ de subintervalos que debemos utilizar para alcanzar la precisión deseada, buscamos un $n$ que cumpla\n",
    "$$\\dfrac{(b-a)^3}{12\\cdot n^2}\\cdot M \\leq \\epsilon  \\Longleftrightarrow \\dfrac{1}{n^2} \\leq \\dfrac{12·\\epsilon}{M·(b-a)^3}  \\Longleftrightarrow n^2  \\geq \\dfrac{M·(b-a)^3}{12·\\epsilon}  \\Longleftrightarrow n  \\geq \\sqrt{\\dfrac{M·(b-a)^3}{12\\cdot \\epsilon}}$$\n",
    "Tomemos $M=2.9$ y $\\epsilon=10^{-3}$."
   ]
  },
  {
   "cell_type": "code",
   "execution_count": 6,
   "metadata": {},
   "outputs": [],
   "source": [
    "M=2.9;\n",
    "epsilon=10^(-3);"
   ]
  },
  {
   "cell_type": "code",
   "execution_count": 7,
   "metadata": {},
   "outputs": [
    {
     "data": {
      "text/plain": [
       "15.5456317551480"
      ]
     },
     "execution_count": 7,
     "metadata": {},
     "output_type": "execute_result"
    }
   ],
   "source": [
    "numerical_approx( sqrt((b-a)^3*M/(12*epsilon))) #=> n=16"
   ]
  },
  {
   "cell_type": "markdown",
   "metadata": {},
   "source": [
    "También se puede hacer iterando hasta encontrar el $n$ adecuado:"
   ]
  },
  {
   "cell_type": "code",
   "execution_count": 8,
   "metadata": {},
   "outputs": [],
   "source": [
    "n=1\n",
    "while (b-a)^3*M/(12*n^2)>epsilon:\n",
    "    n=n+1"
   ]
  },
  {
   "cell_type": "code",
   "execution_count": 9,
   "metadata": {},
   "outputs": [
    {
     "data": {
      "text/plain": [
       "16"
      ]
     },
     "execution_count": 9,
     "metadata": {},
     "output_type": "execute_result"
    }
   ],
   "source": [
    "n"
   ]
  },
  {
   "cell_type": "markdown",
   "metadata": {},
   "source": [
    "<p>Por tanto, vamos a aplicar el Método del Trapecio con $n=16$ subintervalos.</p>\n",
    "<p>Calculamos la aproximación:</p>"
   ]
  },
  {
   "cell_type": "code",
   "execution_count": 10,
   "metadata": {},
   "outputs": [
    {
     "data": {
      "text/html": [
       "<html>\\(\\displaystyle \\left[0, \\frac{1}{16}, \\frac{1}{8}, \\frac{3}{16}, \\frac{1}{4}, \\frac{5}{16}, \\frac{3}{8}, \\frac{7}{16}, \\frac{1}{2}, \\frac{9}{16}, \\frac{5}{8}, \\frac{11}{16}, \\frac{3}{4}, \\frac{13}{16}, \\frac{7}{8}, \\frac{15}{16}, 1\\right]\\)</html>"
      ],
      "text/latex": [
       "$\\displaystyle \\left[0, \\frac{1}{16}, \\frac{1}{8}, \\frac{3}{16}, \\frac{1}{4}, \\frac{5}{16}, \\frac{3}{8}, \\frac{7}{16}, \\frac{1}{2}, \\frac{9}{16}, \\frac{5}{8}, \\frac{11}{16}, \\frac{3}{4}, \\frac{13}{16}, \\frac{7}{8}, \\frac{15}{16}, 1\\right]$"
      ],
      "text/plain": [
       "[0,\n",
       " 1/16,\n",
       " 1/8,\n",
       " 3/16,\n",
       " 1/4,\n",
       " 5/16,\n",
       " 3/8,\n",
       " 7/16,\n",
       " 1/2,\n",
       " 9/16,\n",
       " 5/8,\n",
       " 11/16,\n",
       " 3/4,\n",
       " 13/16,\n",
       " 7/8,\n",
       " 15/16,\n",
       " 1]"
      ]
     },
     "metadata": {},
     "output_type": "display_data"
    }
   ],
   "source": [
    "X=[a+k*(b-a)/n for k in range(0,n+1)]\n",
    "show(X) # X's en los que dividimos el intervalo [a,b]"
   ]
  },
  {
   "cell_type": "code",
   "execution_count": 11,
   "metadata": {},
   "outputs": [
    {
     "data": {
      "text/plain": [
       "1.98242852552029"
      ]
     },
     "execution_count": 11,
     "metadata": {},
     "output_type": "execute_result"
    }
   ],
   "source": [
    "trapecio=(b-a)/(2*n)*(f(a)+2*sum(f(X[k]) for k in range(1,n))+f(b))\n",
    "numerical_approx( trapecio)"
   ]
  },
  {
   "cell_type": "markdown",
   "metadata": {},
   "source": [
    "Conclusión: ${\\rm Trapecio}_{16}(f)=1.98242852552029$ es una aproximación de $\\displaystyle \\int_0^1 f(x) \\, dx$ con error absoluto menor que $10^{-3}$.\n",
    "\n",
    "Comparamos el resultado con el que nos da SAGE, para eso usamos la sentencia \"numerical_integral\".\n"
   ]
  },
  {
   "cell_type": "code",
   "execution_count": 12,
   "metadata": {},
   "outputs": [
    {
     "data": {
      "text/plain": [
       "1.9826467624746877"
      ]
     },
     "execution_count": 12,
     "metadata": {},
     "output_type": "execute_result"
    }
   ],
   "source": [
    "numerical_integral(f,a,b)[0]"
   ]
  },
  {
   "cell_type": "code",
   "execution_count": 13,
   "metadata": {},
   "outputs": [
    {
     "data": {
      "text/plain": [
       "True"
      ]
     },
     "execution_count": 13,
     "metadata": {},
     "output_type": "execute_result"
    }
   ],
   "source": [
    "abs(numerical_integral(f,a,b)[0]-trapecio).n() < 10^(-3) \n",
    "#comprobemos el resultado"
   ]
  },
  {
   "cell_type": "markdown",
   "metadata": {},
   "source": [
    "Veamos gráficamente lo qué hemos calculado con el método del TRAPECIO."
   ]
  },
  {
   "cell_type": "code",
   "execution_count": 14,
   "metadata": {},
   "outputs": [],
   "source": [
    "XY=[(X[j],f(X[j])) for j in range(0,n+1)]; \n",
    "r(c,d,x)=(f(d)-f(c))/(d-c)*(x-c)+f(c)\n",
    "L=piecewise([[(X[j],X[j+1]),r(X[j],X[j+1],x)] for j in srange(0,len(X)-1)],var=x);"
   ]
  },
  {
   "cell_type": "code",
   "execution_count": 15,
   "metadata": {},
   "outputs": [
    {
     "data": {
      "image/png": "[encoded data removed]",
      "text/plain": [
       "Graphics object consisting of 4 graphics primitives"
      ]
     },
     "execution_count": 15,
     "metadata": {},
     "output_type": "execute_result"
    }
   ],
   "source": [
    "plot( L(x),(x,a,b),fill=true)+point2d(XY,size=50,color='red')+plot(f,a,b,color='red')"
   ]
  }
 ],
 "metadata": {
  "kernelspec": {
   "display_name": "SageMath 9.0",
   "language": "sage",
   "name": "sagemath"
  },
  "language": "python",
  "language_info": {
   "codemirror_mode": {
    "name": "ipython",
    "version": 3
   },
   "file_extension": ".py",
   "mimetype": "text/x-python",
   "name": "python",
   "nbconvert_exporter": "python",
   "pygments_lexer": "ipython3",
   "version": "3.8.10"
  }
 },
 "nbformat": 4,
 "nbformat_minor": 4
}
