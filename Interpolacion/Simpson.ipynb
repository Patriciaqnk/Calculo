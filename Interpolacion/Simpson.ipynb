{
 "cells": [
  {
   "cell_type": "markdown",
   "metadata": {},
   "source": [
    "Ejercicio 15.- Se considera la integral f(x)=e^((−x)^2)\n",
    "(a) Calcula la aproximación de dicha integral mediante el Método del Simpson con n=10\n",
    "parábolas.\n",
    "(b) Da una cota superior teórica del error absoluto de la aproximación obtenida en (a).\n",
    "(c) Compara tu aproximación con la calculada por SAGE y representa gráficamente el problema."
   ]
  },
  {
   "cell_type": "code",
   "execution_count": null,
   "metadata": {},
   "outputs": [],
   "source": []
  },
  {
   "cell_type": "code",
   "execution_count": null,
   "metadata": {},
   "outputs": [],
   "source": [
    "f(x)=e^(-x^2)\n",
    "f"
   ]
  },
  {
   "cell_type": "code",
   "execution_count": null,
   "metadata": {},
   "outputs": [],
   "source": [
    "a=-2\n",
    "b=1\n",
    "n=10\n",
    "plot(f,x,a,b,fill=true)"
   ]
  },
  {
   "cell_type": "code",
   "execution_count": null,
   "metadata": {},
   "outputs": [],
   "source": [
    "integrate(f,x,a,b).n()"
   ]
  },
  {
   "cell_type": "code",
   "execution_count": null,
   "metadata": {},
   "outputs": [],
   "source": [
    "X=[a+k*(b-a)/(2*n) for k in [0..2*n]] \n",
    "show(X)"
   ]
  },
  {
   "cell_type": "code",
   "execution_count": null,
   "metadata": {},
   "outputs": [],
   "source": [
    "simpson=(b-a)/(6*n)*(f(a)+4*sum(f(X[2*k-1]) for k in range(1,n+1))+2*sum(f(X[2*k]) for k in range(1,n))+f(b))\n",
    "numerical_approx(simpson)"
   ]
  },
  {
   "cell_type": "code",
   "execution_count": null,
   "metadata": {},
   "outputs": [],
   "source": [
    "show(diff(f(x),x,4))"
   ]
  },
  {
   "cell_type": "code",
   "execution_count": null,
   "metadata": {},
   "outputs": [],
   "source": [
    "plot(abs(derivative(f(x),x,4)),(x,a,b),gridlines=True)+plot(12,a,b,color='red')"
   ]
  },
  {
   "cell_type": "code",
   "execution_count": null,
   "metadata": {},
   "outputs": [],
   "source": [
    "M=12;\n",
    "cota=M*(b-a)^5/(180*(2*n)^4);\n",
    "numerical_approx(cota)"
   ]
  },
  {
   "cell_type": "code",
   "execution_count": null,
   "metadata": {},
   "outputs": [],
   "source": [
    "numerical_approx(integral(f(x),x,a,b))"
   ]
  },
  {
   "cell_type": "code",
   "execution_count": null,
   "metadata": {},
   "outputs": [],
   "source": [
    "simpson.n()\n"
   ]
  },
  {
   "cell_type": "code",
   "execution_count": null,
   "metadata": {},
   "outputs": [],
   "source": [
    "error=abs(simpson-numerical_approx(integral(f(x),x,a,b)));\n",
    "error.n()<cota"
   ]
  },
  {
   "cell_type": "code",
   "execution_count": null,
   "metadata": {},
   "outputs": [],
   "source": [
    "XY=[(X[j],numerical_approx(f(X[j]))) for j in range(0,2*n+1)];"
   ]
  },
  {
   "cell_type": "code",
   "execution_count": null,
   "metadata": {},
   "outputs": [],
   "source": [
    "P=piecewise([ [ (X[2*(i-1)],X[2*i]),RR['x'].lagrange_polynomial([XY[2*(i-1)],XY[2*i-1],XY[2*i]]) ] for i in [1..n] ],var=x)\n",
    "plot(P,a,b,fill=True)+plot(f,x,a,b,color='red')+point(XY,size=20)"
   ]
  },
  {
   "cell_type": "code",
   "execution_count": null,
   "metadata": {},
   "outputs": [],
   "source": [
    "sum(plot(RR['x'].lagrange_polynomial([XY[2*k],XY[2*k+1],XY[2*k+2]]),X[2*k],X[2*k+2],fill=True) for k in range(0,n))+plot(f,x,a,b,color='red')+point(XY,size=20)"
   ]
  },
  {
   "cell_type": "markdown",
   "metadata": {},
   "source": [
    "Ejercicio 17.- Calcula una aproximación de la integral f(x)=sqrt(2+cos(x^2))\n",
    "mediante el Método de Simpson con error absoluto menor que 10−3\n",
    ". Compara tu aproximación con la calculada por SAGE y representa gráficamente el problema."
   ]
  },
  {
   "cell_type": "code",
   "execution_count": null,
   "metadata": {},
   "outputs": [],
   "source": [
    "f(x)=sqrt(2+cos(x^2))\n",
    "f"
   ]
  },
  {
   "cell_type": "code",
   "execution_count": null,
   "metadata": {},
   "outputs": [],
   "source": [
    "a=-3\n",
    "b=-1\n",
    "plot(f,x,a,b,fill=true)"
   ]
  },
  {
   "cell_type": "code",
   "execution_count": null,
   "metadata": {},
   "outputs": [],
   "source": [
    "plot(abs(derivative(f(x),x,4)),(x,a,b))+plot(560,a,b,color='red')"
   ]
  },
  {
   "cell_type": "code",
   "execution_count": null,
   "metadata": {},
   "outputs": [],
   "source": [
    "M=560\n",
    "epsilon=10^(-3)"
   ]
  },
  {
   "cell_type": "code",
   "execution_count": null,
   "metadata": {},
   "outputs": [],
   "source": [
    "numerical_approx(((b-a)^5/(180*16*epsilon)*M)^(1/4)) "
   ]
  },
  {
   "cell_type": "code",
   "execution_count": null,
   "metadata": {},
   "outputs": [],
   "source": [
    "n=1\n",
    "while (b-a)^5*M/(180*2^4*n^4)>epsilon:\n",
    "    n=n+1\n",
    "n=11\n",
    "n\n"
   ]
  },
  {
   "cell_type": "code",
   "execution_count": null,
   "metadata": {},
   "outputs": [],
   "source": [
    "X=[a+k*(b-a)/(2*n) for k in [0..2*n]]"
   ]
  },
  {
   "cell_type": "code",
   "execution_count": null,
   "metadata": {},
   "outputs": [],
   "source": [
    "simpson=(b-a)/(6*n)*(f(a)+4*sum(f(X[2*k-1]) for k in [1..n])+2*sum(f(X[2*k]) for k in [1..n-1])+f(b))\n",
    "numerical_approx(simpson)"
   ]
  },
  {
   "cell_type": "code",
   "execution_count": null,
   "metadata": {},
   "outputs": [],
   "source": [
    "numerical_integral(f,a,b)[0]"
   ]
  },
  {
   "cell_type": "code",
   "execution_count": null,
   "metadata": {},
   "outputs": [],
   "source": [
    "abs((numerical_integral(f,a,b)[0]-simpson).n())<10^(-4)"
   ]
  },
  {
   "cell_type": "code",
   "execution_count": null,
   "metadata": {},
   "outputs": [],
   "source": [
    "XY=[(X[i],f(X[i])) for i in [0..2*n]]\n",
    "P=piecewise([ [ (X[2*(i-1)],X[2*i]),RR['x'].lagrange_polynomial(\n",
    "[XY[2*(i-1)],XY[2*i-1],XY[2*i]]) ] for i in [1..n] ] ,var=x)\n",
    "plot(P,a,b,color='red',thickness=3,fill=true)+plot(f,a,b)+point2d(XY,size=50)"
   ]
  },
  {
   "cell_type": "markdown",
   "metadata": {},
   "source": [
    "Ejercicio 19.- Calcula aproximaciones de la integral f(x)=sqrt(2+sin(x^2))\n",
    "mediante los métodos del Trapecio y Simpson con error absoluto menor que 10−4, comparando el número de evaluaciones de la función utilizadas en cada caso."
   ]
  },
  {
   "cell_type": "code",
   "execution_count": null,
   "metadata": {},
   "outputs": [],
   "source": [
    "f(x)=sqrt(2+sin(x^2))\n",
    "f"
   ]
  },
  {
   "cell_type": "code",
   "execution_count": null,
   "metadata": {},
   "outputs": [],
   "source": [
    "a=0\n",
    "b=1.5"
   ]
  },
  {
   "cell_type": "code",
   "execution_count": null,
   "metadata": {},
   "outputs": [],
   "source": [
    "plot(f,x,a,b,fill=true)"
   ]
  },
  {
   "cell_type": "code",
   "execution_count": null,
   "metadata": {},
   "outputs": [],
   "source": [
    "#show(derivative(f(x),x,4))\n",
    "plot(abs(derivative(f(x),x,4)),(x,a,b))+plot(22,a,b,color='red')"
   ]
  },
  {
   "cell_type": "code",
   "execution_count": null,
   "metadata": {},
   "outputs": [],
   "source": [
    "M=22\n",
    "epsilon=10^(-4)"
   ]
  },
  {
   "cell_type": "code",
   "execution_count": null,
   "metadata": {},
   "outputs": [],
   "source": [
    "numerical_approx(((b-a)^5/(180*16*epsilon)*M)^(1/4)) "
   ]
  },
  {
   "cell_type": "code",
   "execution_count": null,
   "metadata": {},
   "outputs": [],
   "source": [
    "n=1\n",
    "while (b-a)^5*M/(180*2^4*n^4)>epsilon:\n",
    "    n=n+1\n",
    "n"
   ]
  },
  {
   "cell_type": "code",
   "execution_count": null,
   "metadata": {},
   "outputs": [],
   "source": [
    "X=[a+k*(b-a)/(2*n) for k in [0..2*n]]"
   ]
  },
  {
   "cell_type": "code",
   "execution_count": null,
   "metadata": {},
   "outputs": [],
   "source": [
    "simpson=(b-a)/(6*n)*(f(a)+4*sum(f(X[2*k-1]) for k in [1..n])+2*sum(f(X[2*k]) for k in [1..n-1])+f(b))\n",
    "numerical_approx(simpson)"
   ]
  },
  {
   "cell_type": "code",
   "execution_count": null,
   "metadata": {},
   "outputs": [],
   "source": [
    "show(derivative(f(x),x,2))"
   ]
  },
  {
   "cell_type": "code",
   "execution_count": null,
   "metadata": {},
   "outputs": [],
   "source": [
    "plot(abs(derivative(f(x),x,2)),(x,a,b))+plot(2.7,a,b,color='red')"
   ]
  },
  {
   "cell_type": "code",
   "execution_count": null,
   "metadata": {},
   "outputs": [],
   "source": [
    "M=2.7\n",
    "epsilon=10^(-4)\n",
    "n=1\n",
    "while (b-a)^3*M/(12*n^2)>epsilon:\n",
    "    n=n+1\n",
    "n"
   ]
  },
  {
   "cell_type": "code",
   "execution_count": null,
   "metadata": {},
   "outputs": [],
   "source": [
    "X=[a+k*(b-a)/n for k in range(0,n+1)]\n",
    "show(X)"
   ]
  },
  {
   "cell_type": "code",
   "execution_count": null,
   "metadata": {},
   "outputs": [],
   "source": [
    "trapecio=(b-a)/(2*n)*(f(a)+2*sum(f(X[k]) for k in range(1,n))+f(b))\n",
    "numerical_approx( trapecio)"
   ]
  },
  {
   "cell_type": "markdown",
   "metadata": {},
   "source": [
    "Ejercicio 23.- Calcular la longitud de la cicloide utilizando el método de Simpson con n=5\n",
    "parábolas. Estudia el error cometido.\n",
    "{xy==a(t−sin(t))a(1−cos(t)),a=2,t∈[0,2π]"
   ]
  },
  {
   "cell_type": "code",
   "execution_count": 1,
   "metadata": {},
   "outputs": [
    {
     "data": {
      "image/png": "[encoded data removed]",
      "text/plain": [
       "Graphics object consisting of 1 graphics primitive"
      ]
     },
     "execution_count": 1,
     "metadata": {},
     "output_type": "execute_result"
    }
   ],
   "source": [
    "t=var('t')\n",
    "parametric_plot((2*(t-sin(t)),2*(1-cos(t))),(t,0,8*pi)) "
   ]
  },
  {
   "cell_type": "code",
   "execution_count": 2,
   "metadata": {},
   "outputs": [
    {
     "data": {
      "image/png": "[encoded data removed]",
      "text/plain": [
       "Graphics object consisting of 1 graphics primitive"
      ]
     },
     "execution_count": 2,
     "metadata": {},
     "output_type": "execute_result"
    }
   ],
   "source": [
    "parametric_plot((2*(t-sin(t)),2*(1-cos(t))),(t,0,2*pi)) "
   ]
  },
  {
   "cell_type": "code",
   "execution_count": 3,
   "metadata": {},
   "outputs": [
    {
     "data": {
      "text/html": [
       "<html><script type=\"math/tex; mode=display\">\\newcommand{\\Bold}[1]{\\mathbf{#1}}t \\ {\\mapsto}\\ \\sqrt{-8 \\, \\cos\\left(t\\right) + 8}</script></html>"
      ],
      "text/plain": [
       "t |--> sqrt(-8*cos(t) + 8)"
      ]
     },
     "metadata": {},
     "output_type": "display_data"
    }
   ],
   "source": [
    "x(t)=2*(t-sin(t))\n",
    "y(t)=2*(1-cos(t))\n",
    "f(t)=sqrt((expand(diff(x(t),t)^2+diff(y(t),t)^2 )).simplify_trig()) \n",
    "show(f)"
   ]
  },
  {
   "cell_type": "code",
   "execution_count": 4,
   "metadata": {},
   "outputs": [
    {
     "data": {
      "image/png": "[encoded data removed]",
      "text/plain": [
       "Graphics object consisting of 2 graphics primitives"
      ]
     },
     "execution_count": 4,
     "metadata": {},
     "output_type": "execute_result"
    }
   ],
   "source": [
    "plot(f,0,2*pi,fill=True)"
   ]
  },
  {
   "cell_type": "code",
   "execution_count": 5,
   "metadata": {},
   "outputs": [],
   "source": [
    "a=0 #definimos el intervalo\n",
    "b=2*pi"
   ]
  },
  {
   "cell_type": "code",
   "execution_count": 6,
   "metadata": {},
   "outputs": [
    {
     "data": {
      "text/plain": [
       "15.999999999999998"
      ]
     },
     "execution_count": 6,
     "metadata": {},
     "output_type": "execute_result"
    }
   ],
   "source": [
    "numerical_integral(f,a,b)[0]"
   ]
  },
  {
   "cell_type": "code",
   "execution_count": 7,
   "metadata": {},
   "outputs": [
    {
     "data": {
      "text/html": [
       "<html><script type=\"math/tex; mode=display\">\\newcommand{\\Bold}[1]{\\mathbf{#1}}\\left[0, \\frac{1}{5} \\, \\pi, \\frac{2}{5} \\, \\pi, \\frac{3}{5} \\, \\pi, \\frac{4}{5} \\, \\pi, \\pi, \\frac{6}{5} \\, \\pi, \\frac{7}{5} \\, \\pi, \\frac{8}{5} \\, \\pi, \\frac{9}{5} \\, \\pi, 2 \\, \\pi\\right]</script></html>"
      ],
      "text/plain": [
       "[0, 1/5*pi, 2/5*pi, 3/5*pi, 4/5*pi, pi, 6/5*pi, 7/5*pi, 8/5*pi, 9/5*pi, 2*pi]"
      ]
     },
     "metadata": {},
     "output_type": "display_data"
    }
   ],
   "source": [
    "n=5\n",
    "X=[a+k*(b-a)/(2*n) for k in [0..2*n]] \n",
    "#definimos los nodos. Recordad que n=5 es el número de parábolas.\n",
    "show(X)"
   ]
  },
  {
   "cell_type": "code",
   "execution_count": 8,
   "metadata": {},
   "outputs": [
    {
     "data": {
      "text/plain": [
       "16.0008761385200"
      ]
     },
     "execution_count": 8,
     "metadata": {},
     "output_type": "execute_result"
    }
   ],
   "source": [
    "simpson=(b-a)/(6*n)*(f(a)+4*sum(f(X[2*k-1]) for k in range(1,n+1))+2*sum(f(X[2*k]) for k in range(1,n))+f(b))\n",
    "numerical_approx(simpson)"
   ]
  },
  {
   "cell_type": "code",
   "execution_count": 10,
   "metadata": {},
   "outputs": [
    {
     "data": {
      "text/html": [
       "<html><script type=\"math/tex; mode=display\">\\newcommand{\\Bold}[1]{\\mathbf{#1}}\\sqrt{-8 \\, \\cos\\left(t\\right) + 8}</script></html>"
      ],
      "text/plain": [
       "sqrt(-8*cos(t) + 8)"
      ]
     },
     "metadata": {},
     "output_type": "display_data"
    },
    {
     "data": {
      "text/html": [
       "<html><script type=\"math/tex; mode=display\">\\newcommand{\\Bold}[1]{\\mathbf{#1}}\\left[t, 0, 2 \\, \\pi\\right]</script></html>"
      ],
      "text/plain": [
       "[t, 0, 2*pi]"
      ]
     },
     "metadata": {},
     "output_type": "display_data"
    }
   ],
   "source": [
    "show(f(t))\n",
    "show([t, a, b])"
   ]
  },
  {
   "cell_type": "code",
   "execution_count": 19,
   "metadata": {},
   "outputs": [
    {
     "data": {
      "image/png": "[encoded data removed]",
      "text/plain": [
       "Graphics object consisting of 2 graphics primitives"
      ]
     },
     "execution_count": 19,
     "metadata": {},
     "output_type": "execute_result"
    }
   ],
   "source": [
    "plot(abs(derivative(f(t),t,4)),(t,a,b-0.01),gridlines=True,ymin=0,ymax=0.3)+plot(0.25,a,b,color='red')"
   ]
  },
  {
   "cell_type": "code",
   "execution_count": 20,
   "metadata": {},
   "outputs": [
    {
     "data": {
      "text/plain": [
       "0.00136008748793458"
      ]
     },
     "execution_count": 20,
     "metadata": {},
     "output_type": "execute_result"
    }
   ],
   "source": [
    "M=0.25;\n",
    "cota=M*(b-a)^5/(180*(2*n)^4);\n",
    "numerical_approx(cota)"
   ]
  },
  {
   "cell_type": "code",
   "execution_count": 21,
   "metadata": {},
   "outputs": [
    {
     "data": {
      "text/plain": [
       "0.000876138520034431"
      ]
     },
     "execution_count": 21,
     "metadata": {},
     "output_type": "execute_result"
    }
   ],
   "source": [
    "abs(simpson-16).n()"
   ]
  },
  {
   "cell_type": "markdown",
   "metadata": {},
   "source": [
    "Ejercicio 24.- Sabemos que si la curva C\n",
    "viene descrita en coordenadas polares por la función ρ=ρ(θ)\n",
    "con θ∈[θ0,θ1], donde (ρ(θ),θ) son las coordenadas polares de un punto genérico de la curva, entonces su longitud viene dada por\n",
    "sqrt(p(0)^2+p'(0)^2)\n",
    "Usar esta fórmula para calcular la longitud de la cardiode:\n",
    "ρ=a(1+cosθ),θ∈[0,2π],\n",
    "con a=4\n",
    ", utilizando el método de Simpson con n=6\n",
    "parábolas."
   ]
  },
  {
   "cell_type": "code",
   "execution_count": null,
   "metadata": {},
   "outputs": [],
   "source": [
    "angulo=var('angulo')\n",
    "polar_plot( angulo , (angulo, 0, 2*pi)) "
   ]
  },
  {
   "cell_type": "code",
   "execution_count": null,
   "metadata": {},
   "outputs": [],
   "source": [
    "polar_plot(4*(1+cos(angulo)),(angulo, 0, 2*pi),color='black',thickness=2)"
   ]
  },
  {
   "cell_type": "code",
   "execution_count": null,
   "metadata": {},
   "outputs": [],
   "source": [
    "rho=4*(1+cos(angulo))\n",
    "g(angulo)=expand(rho^2+diff(rho,angulo)^2).simplify_trig()\n",
    "f(angulo)=sqrt(g)\n",
    "show(f)"
   ]
  },
  {
   "cell_type": "code",
   "execution_count": null,
   "metadata": {},
   "outputs": [],
   "source": [
    "plot(f,0,2*pi,fill=True)"
   ]
  },
  {
   "cell_type": "code",
   "execution_count": null,
   "metadata": {},
   "outputs": [],
   "source": [
    "integral(f,angulo)"
   ]
  },
  {
   "cell_type": "code",
   "execution_count": null,
   "metadata": {},
   "outputs": [],
   "source": [
    "2*numerical_integral(f,0,pi)[0] "
   ]
  },
  {
   "cell_type": "code",
   "execution_count": null,
   "metadata": {},
   "outputs": [],
   "source": [
    "a=0\n",
    "b=pi\n",
    "n=6"
   ]
  },
  {
   "cell_type": "code",
   "execution_count": null,
   "metadata": {},
   "outputs": [],
   "source": [
    "X=[a+k*(b-a)/(2*n) for k in [0..2*n]]; \n",
    "show(X)"
   ]
  },
  {
   "cell_type": "code",
   "execution_count": null,
   "metadata": {},
   "outputs": [],
   "source": [
    "simpson=(b-a)/(6*n)*(f(X[0])+4*sum(f(X[2*k-1]) for k in [1..n])+2*sum(f(X[2*k]) for k in [1..n-1])+f(X[2*n]))\n",
    "simpson.n()"
   ]
  },
  {
   "cell_type": "code",
   "execution_count": null,
   "metadata": {},
   "outputs": [],
   "source": [
    "2*simpson.n()"
   ]
  },
  {
   "cell_type": "markdown",
   "metadata": {},
   "source": [
    "Ejercicio 25.- Hallar la longitud de la primera espira de la espiral de Arquímedes ρ(θ)=aθ,a=2\n",
    ", utilizando el método de Simpson y una cota de error absoluto menor que 10−3\n",
    "."
   ]
  },
  {
   "cell_type": "code",
   "execution_count": null,
   "metadata": {},
   "outputs": [],
   "source": [
    "angulo=var('angulo')\n",
    "polar_plot( 2*angulo , (angulo, 0, 2*pi))"
   ]
  },
  {
   "cell_type": "code",
   "execution_count": null,
   "metadata": {},
   "outputs": [],
   "source": [
    "P1=polar_plot( 2*angulo , (angulo, 0, 2*pi)) \n",
    "P2=polar_plot( 2*angulo , (angulo, 0, 4*pi))\n",
    "P3=polar_plot( 2*angulo , (angulo, 0, 6*pi))\n",
    "P4=polar_plot( 2*angulo , (angulo, 0, 8*pi))\n",
    "graphics_array(((P1,P2), (P3,P4)))"
   ]
  },
  {
   "cell_type": "code",
   "execution_count": null,
   "metadata": {},
   "outputs": [],
   "source": [
    "a=0\n",
    "b=2*pi"
   ]
  },
  {
   "cell_type": "code",
   "execution_count": null,
   "metadata": {},
   "outputs": [],
   "source": [
    "rho=2*angulo\n",
    "g(angulo)=expand(rho^2+diff(rho,angulo)^2).simplify_trig()\n",
    "f(angulo)=sqrt(g)\n",
    "f"
   ]
  },
  {
   "cell_type": "code",
   "execution_count": null,
   "metadata": {},
   "outputs": [],
   "source": [
    "integral(f,angulo,a,b).n()"
   ]
  },
  {
   "cell_type": "code",
   "execution_count": null,
   "metadata": {},
   "outputs": [],
   "source": [
    "plot(abs(diff(f(x),x,4)),a,b,gridlines=True,legend_label='$y=|f^{(4)}(x)|$')+plot(6,a,b,color='red')"
   ]
  },
  {
   "cell_type": "code",
   "execution_count": null,
   "metadata": {},
   "outputs": [],
   "source": [
    "M=6\n",
    "epsilon=10^(-3)\n",
    "n=1\n",
    "while (b-a)^5*M/(180*2^4*n^4)>epsilon:\n",
    "    n=n+1\n",
    "n "
   ]
  },
  {
   "cell_type": "code",
   "execution_count": null,
   "metadata": {},
   "outputs": [],
   "source": [
    "X=[a+k*(b-a)/(2*n) for k in [0..2*n]] # Puntos auxiliares\n",
    "show(X)"
   ]
  },
  {
   "cell_type": "code",
   "execution_count": null,
   "metadata": {},
   "outputs": [],
   "source": [
    "simpson=(b-a)/(6*n)*(f(X[0])+4*sum(f(X[2*k-1]) for k in [1..n])+2*sum(f(X[2*k]) for k in [1..n-1])+f(X[2*n]))\n",
    "simpson.n()"
   ]
  },
  {
   "cell_type": "markdown",
   "metadata": {},
   "source": [
    "Ejercicio 26.- Sabemos que el área delimitada por la curva ρ=ρ(θ) con θ∈[θ0,θ1], viene dada por la expresión\n",
    "A=12∫θ1θ0ρ(θ)2dθ.\n",
    "Usar esta fórmula para calcular el área delimitada por el interior de la cardiode\n",
    "ρ=a(1+cosθ),θ∈[0,2π],con a=2, utilizando el método de Simpson con n=6 parábolas."
   ]
  },
  {
   "cell_type": "code",
   "execution_count": null,
   "metadata": {},
   "outputs": [],
   "source": [
    "angulo=var('angulo')"
   ]
  },
  {
   "cell_type": "code",
   "execution_count": null,
   "metadata": {},
   "outputs": [],
   "source": [
    "polar_plot(2*(1+cos(angulo)), (angulo,0,2*pi),color='black',thickness=2,fill=True)"
   ]
  },
  {
   "cell_type": "code",
   "execution_count": null,
   "metadata": {},
   "outputs": [],
   "source": [
    "f(angulo)=(2^2*(1+cos(angulo))^2)/2\n",
    "show(f)"
   ]
  },
  {
   "cell_type": "code",
   "execution_count": null,
   "metadata": {},
   "outputs": [],
   "source": [
    "plot(f,0,2*pi,fill=True)"
   ]
  },
  {
   "cell_type": "code",
   "execution_count": null,
   "metadata": {},
   "outputs": [],
   "source": [
    "int(angulo)=integral(f,angulo)\n",
    "show(int)"
   ]
  },
  {
   "cell_type": "code",
   "execution_count": null,
   "metadata": {},
   "outputs": [],
   "source": [
    "(int(2*pi)-int(0))"
   ]
  },
  {
   "cell_type": "code",
   "execution_count": null,
   "metadata": {},
   "outputs": [],
   "source": [
    "numerical_integral(f,0,2*pi)[0] "
   ]
  },
  {
   "cell_type": "code",
   "execution_count": null,
   "metadata": {},
   "outputs": [],
   "source": [
    "a=0\n",
    "b=2*pi\n",
    "n=6\n",
    "X=[a+k*(b-a)/(2*n) for k in [0..2*n]]; \n",
    "show(X)"
   ]
  },
  {
   "cell_type": "code",
   "execution_count": null,
   "metadata": {},
   "outputs": [],
   "source": [
    "simpson=(b-a)/(6*n)*(f(X[0])+4*sum(f(X[2*k-1]) for k in [1..n])+2*sum(f(X[2*k]) for k in [1..n-1])+f(X[2*n]))\n",
    "simpson.n()"
   ]
  },
  {
   "cell_type": "code",
   "execution_count": null,
   "metadata": {},
   "outputs": [],
   "source": [
    "XY=[(X[i],f(X[i])) for i in [0..2*n]]\n",
    "XY"
   ]
  },
  {
   "cell_type": "code",
   "execution_count": null,
   "metadata": {},
   "outputs": [],
   "source": [
    "P=piecewise([ [ (X[2*(i-1)],X[2*i]),RR['x'].lagrange_polynomial([XY[2*(i-1)],XY[2*i-1],XY[2*i]]) ] for i in [1..n] ] ,var=x)\n",
    "plot(P,a,b,color='red',legend_label='$6\\,\\,PARABOLAS$',fill=True)+plot(f,a,b,legend_label='$f(x)$')+point2d(XY,size=50)"
   ]
  },
  {
   "cell_type": "code",
   "execution_count": null,
   "metadata": {},
   "outputs": [],
   "source": [
    "P=piecewise([[(X[2*(i-1)],X[2*i]),RR['x'].lagrange_polynomial([XY[2*(i-1)],XY[2*i-1],XY[2*i]])]for i in [1..n]],var=x)"
   ]
  },
  {
   "cell_type": "code",
   "execution_count": null,
   "metadata": {},
   "outputs": [],
   "source": [
    "plot(P,a,b,color='red',legend_label='$6\\,\\,PARABOLAS$',fill=True)+plot(f,a,b,legend_label='$f(x)$')+point2d(XY,size=50)"
   ]
  },
  {
   "cell_type": "code",
   "execution_count": null,
   "metadata": {},
   "outputs": [],
   "source": [
    "Ejercicio 28.- Recordad que si ρ1(θ)≤ρ2(θ)\n",
    "con θ∈[θ0,θ1], entonces el área delimitada por las curvas ρ1=ρ1(θ)\n",
    ", ρ2=ρ2(θ)y el sector θ0≤θ≤θ1 viene dada por:\n",
    "A=12∫θ1θ0(ρ2(θ)2−ρ1(θ)2)dθ.\n",
    "Usar esta fórmula para calcular el área delimitada por la cardioide ρ(θ)=1−cos(θ)\n",
    "y la circunferencia ρ=1 utilizando el método de Simpson con n=4\n",
    "parábolas."
   ]
  },
  {
   "cell_type": "code",
   "execution_count": 1,
   "metadata": {},
   "outputs": [],
   "source": [
    "angulo=var('angulo')"
   ]
  },
  {
   "cell_type": "code",
   "execution_count": 2,
   "metadata": {},
   "outputs": [
    {
     "data": {
      "image/png": "[encoded data removed]",
      "text/plain": [
       "Graphics object consisting of 4 graphics primitives"
      ]
     },
     "execution_count": 2,
     "metadata": {},
     "output_type": "execute_result"
    }
   ],
   "source": [
    "polar_plot(1, (angulo, 0, 2*pi), thickness=2,fill=True)+polar_plot(1-cos(angulo), (angulo,0,2*pi),color='black',thickness=2,fill=True)"
   ]
  },
  {
   "cell_type": "code",
   "execution_count": 3,
   "metadata": {},
   "outputs": [
    {
     "data": {
      "image/png": "[encoded data removed]",
      "text/plain": [
       "Graphics object consisting of 4 graphics primitives"
      ]
     },
     "execution_count": 3,
     "metadata": {},
     "output_type": "execute_result"
    }
   ],
   "source": [
    "polar_plot(1-cos(angulo), (angulo, -pi/2, pi/2),color='black', thickness=2,fill=True)+polar_plot(1, (angulo, -pi/2, pi/2), thickness=2,fill=True)"
   ]
  },
  {
   "cell_type": "code",
   "execution_count": 4,
   "metadata": {},
   "outputs": [
    {
     "data": {
      "image/png": "[encoded data removed]",
      "text/plain": [
       "Graphics object consisting of 4 graphics primitives"
      ]
     },
     "execution_count": 4,
     "metadata": {},
     "output_type": "execute_result"
    }
   ],
   "source": [
    "polar_plot(1-cos(angulo),(angulo, pi/2, 3*pi/2),color='black',thickness=2,fill=True)+polar_plot(1,(angulo, pi/2, 3*pi/2),thickness=2,fill=True)"
   ]
  },
  {
   "cell_type": "code",
   "execution_count": 5,
   "metadata": {},
   "outputs": [
    {
     "data": {
      "text/html": [
       "<html><script type=\"math/tex; mode=display\">\\newcommand{\\Bold}[1]{\\mathbf{#1}}\\mathit{angulo} \\ {\\mapsto}\\ -\\frac{1}{2} \\, \\cos\\left(\\mathit{angulo}\\right)^{2} + \\cos\\left(\\mathit{angulo}\\right)</script></html>"
      ],
      "text/plain": [
       "angulo |--> -1/2*cos(angulo)^2 + cos(angulo)"
      ]
     },
     "metadata": {},
     "output_type": "display_data"
    }
   ],
   "source": [
    "f(angulo)=(2*cos(angulo)-(cos(angulo)^2))/2\n",
    "show(f)"
   ]
  },
  {
   "cell_type": "code",
   "execution_count": 6,
   "metadata": {},
   "outputs": [
    {
     "data": {
      "text/html": [
       "<html><script type=\"math/tex; mode=display\">\\newcommand{\\Bold}[1]{\\mathbf{#1}}\\mathit{angulo} \\ {\\mapsto}\\ -\\frac{1}{4} \\, \\mathit{angulo} - \\frac{1}{8} \\, \\sin\\left(2 \\, \\mathit{angulo}\\right) + \\sin\\left(\\mathit{angulo}\\right)</script></html>"
      ],
      "text/plain": [
       "angulo |--> -1/4*angulo - 1/8*sin(2*angulo) + sin(angulo)"
      ]
     },
     "metadata": {},
     "output_type": "display_data"
    }
   ],
   "source": [
    "int(angulo)=integral(f,angulo)\n",
    "show(int)"
   ]
  },
  {
   "cell_type": "code",
   "execution_count": 7,
   "metadata": {},
   "outputs": [
    {
     "data": {
      "text/plain": [
       "-1/4*pi + 2"
      ]
     },
     "execution_count": 7,
     "metadata": {},
     "output_type": "execute_result"
    }
   ],
   "source": [
    "int(pi/2)-int(-pi/2)"
   ]
  },
  {
   "cell_type": "code",
   "execution_count": 8,
   "metadata": {},
   "outputs": [
    {
     "data": {
      "text/plain": [
       "1.214601836602552"
      ]
     },
     "execution_count": 8,
     "metadata": {},
     "output_type": "execute_result"
    }
   ],
   "source": [
    "numerical_integral(f,-pi/2,pi/2)[0] "
   ]
  },
  {
   "cell_type": "code",
   "execution_count": 9,
   "metadata": {},
   "outputs": [
    {
     "data": {
      "image/png": "[encoded data removed]",
      "text/plain": [
       "Graphics object consisting of 2 graphics primitives"
      ]
     },
     "execution_count": 9,
     "metadata": {},
     "output_type": "execute_result"
    }
   ],
   "source": [
    "plot(f,-pi/2,pi/2,fill=True)"
   ]
  },
  {
   "cell_type": "code",
   "execution_count": 10,
   "metadata": {},
   "outputs": [],
   "source": [
    "a=0\n",
    "b=pi/2\n",
    "n=4"
   ]
  },
  {
   "cell_type": "code",
   "execution_count": 11,
   "metadata": {},
   "outputs": [
    {
     "data": {
      "text/html": [
       "<html><script type=\"math/tex; mode=display\">\\newcommand{\\Bold}[1]{\\mathbf{#1}}\\left[0, \\frac{1}{16} \\, \\pi, \\frac{1}{8} \\, \\pi, \\frac{3}{16} \\, \\pi, \\frac{1}{4} \\, \\pi, \\frac{5}{16} \\, \\pi, \\frac{3}{8} \\, \\pi, \\frac{7}{16} \\, \\pi, \\frac{1}{2} \\, \\pi\\right]</script></html>"
      ],
      "text/plain": [
       "[0, 1/16*pi, 1/8*pi, 3/16*pi, 1/4*pi, 5/16*pi, 3/8*pi, 7/16*pi, 1/2*pi]"
      ]
     },
     "metadata": {},
     "output_type": "display_data"
    }
   ],
   "source": [
    "X=[a+k*(b-a)/(2*n) for k in [0..2*n]]; \n",
    "show(X)"
   ]
  },
  {
   "cell_type": "code",
   "execution_count": 12,
   "metadata": {},
   "outputs": [
    {
     "data": {
      "text/plain": [
       "0.607309213825244"
      ]
     },
     "execution_count": 12,
     "metadata": {},
     "output_type": "execute_result"
    }
   ],
   "source": [
    "simpson=(b-a)/(6*n)*(f(X[0])+4*sum(f(X[2*k-1]) for k in [1..n])+2*sum(f(X[2*k]) for k in [1..n-1])+f(X[2*n]))\n",
    "simpson.n()"
   ]
  },
  {
   "cell_type": "code",
   "execution_count": 13,
   "metadata": {},
   "outputs": [
    {
     "data": {
      "text/plain": [
       "1.21461842765049"
      ]
     },
     "execution_count": 13,
     "metadata": {},
     "output_type": "execute_result"
    }
   ],
   "source": [
    "2*simpson.n()"
   ]
  },
  {
   "cell_type": "code",
   "execution_count": 14,
   "metadata": {},
   "outputs": [
    {
     "data": {
      "text/html": [
       "<html><script type=\"math/tex; mode=display\">\\newcommand{\\Bold}[1]{\\mathbf{#1}}\\mathit{angulo} \\ {\\mapsto}\\ \\frac{1}{2} \\, \\cos\\left(\\mathit{angulo}\\right)^{2} - \\cos\\left(\\mathit{angulo}\\right)</script></html>"
      ],
      "text/plain": [
       "angulo |--> 1/2*cos(angulo)^2 - cos(angulo)"
      ]
     },
     "metadata": {},
     "output_type": "display_data"
    }
   ],
   "source": [
    "g(angulo)=(-2*cos(angulo)+(cos(angulo)^2))/2\n",
    "show(g)"
   ]
  },
  {
   "cell_type": "code",
   "execution_count": 15,
   "metadata": {},
   "outputs": [
    {
     "data": {
      "text/html": [
       "<html><script type=\"math/tex; mode=display\">\\newcommand{\\Bold}[1]{\\mathbf{#1}}\\mathit{angulo} \\ {\\mapsto}\\ \\frac{1}{4} \\, \\mathit{angulo} + \\frac{1}{8} \\, \\sin\\left(2 \\, \\mathit{angulo}\\right) - \\sin\\left(\\mathit{angulo}\\right)</script></html>"
      ],
      "text/plain": [
       "angulo |--> 1/4*angulo + 1/8*sin(2*angulo) - sin(angulo)"
      ]
     },
     "metadata": {},
     "output_type": "display_data"
    }
   ],
   "source": [
    "int(angulo)=integral(g,angulo)\n",
    "show(int)"
   ]
  },
  {
   "cell_type": "code",
   "execution_count": 16,
   "metadata": {},
   "outputs": [
    {
     "data": {
      "text/plain": [
       "1/4*pi + 2"
      ]
     },
     "execution_count": 16,
     "metadata": {},
     "output_type": "execute_result"
    }
   ],
   "source": [
    "int(3*pi/2)-int(pi/2)"
   ]
  },
  {
   "cell_type": "code",
   "execution_count": 17,
   "metadata": {},
   "outputs": [
    {
     "data": {
      "text/plain": [
       "2.7853981633974483"
      ]
     },
     "execution_count": 17,
     "metadata": {},
     "output_type": "execute_result"
    }
   ],
   "source": [
    "numerical_integral(g,pi/2,3*pi/2)[0] "
   ]
  },
  {
   "cell_type": "code",
   "execution_count": 18,
   "metadata": {},
   "outputs": [
    {
     "data": {
      "image/png": "[encoded data removed]",
      "text/plain": [
       "Graphics object consisting of 2 graphics primitives"
      ]
     },
     "execution_count": 18,
     "metadata": {},
     "output_type": "execute_result"
    }
   ],
   "source": [
    "plot(g,pi/2,3*pi/2,fill=True)"
   ]
  },
  {
   "cell_type": "code",
   "execution_count": 19,
   "metadata": {},
   "outputs": [],
   "source": [
    "a=pi/2\n",
    "b=pi\n",
    "n=4"
   ]
  },
  {
   "cell_type": "code",
   "execution_count": 20,
   "metadata": {},
   "outputs": [
    {
     "data": {
      "text/html": [
       "<html><script type=\"math/tex; mode=display\">\\newcommand{\\Bold}[1]{\\mathbf{#1}}\\left[\\frac{1}{2} \\, \\pi, \\frac{9}{16} \\, \\pi, \\frac{5}{8} \\, \\pi, \\frac{11}{16} \\, \\pi, \\frac{3}{4} \\, \\pi, \\frac{13}{16} \\, \\pi, \\frac{7}{8} \\, \\pi, \\frac{15}{16} \\, \\pi, \\pi\\right]</script></html>"
      ],
      "text/plain": [
       "[1/2*pi, 9/16*pi, 5/8*pi, 11/16*pi, 3/4*pi, 13/16*pi, 7/8*pi, 15/16*pi, pi]"
      ]
     },
     "metadata": {},
     "output_type": "display_data"
    }
   ],
   "source": [
    "X=[a+k*(b-a)/(2*n) for k in [0..2*n]]; \n",
    "show(X)"
   ]
  },
  {
   "cell_type": "code",
   "execution_count": 21,
   "metadata": {},
   "outputs": [
    {
     "data": {
      "text/plain": [
       "1.39270737722269"
      ]
     },
     "execution_count": 21,
     "metadata": {},
     "output_type": "execute_result"
    }
   ],
   "source": [
    "simpson=(b-a)/(6*n)*(g(X[0])+4*sum(g(X[2*k-1]) for k in [1..n])+2*sum(g(X[2*k]) for k in [1..n-1])+g(X[2*n]))\n",
    "simpson.n()"
   ]
  },
  {
   "cell_type": "code",
   "execution_count": 22,
   "metadata": {},
   "outputs": [
    {
     "data": {
      "text/plain": [
       "2.78541475444538"
      ]
     },
     "execution_count": 22,
     "metadata": {},
     "output_type": "execute_result"
    }
   ],
   "source": [
    "2*simpson.n()"
   ]
  }
 ],
 "metadata": {
  "kernelspec": {
   "display_name": "SageMath 9.0",
   "language": "sage",
   "name": "sagemath"
  },
  "language_info": {
   "codemirror_mode": {
    "name": "ipython",
    "version": 3
   },
   "file_extension": ".py",
   "mimetype": "text/x-python",
   "name": "python",
   "nbconvert_exporter": "python",
   "pygments_lexer": "ipython3",
   "version": "3.8.10"
  }
 },
 "nbformat": 4,
 "nbformat_minor": 4
}
