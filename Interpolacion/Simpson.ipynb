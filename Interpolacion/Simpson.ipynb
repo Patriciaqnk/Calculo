# Interpolación. Integración numérica: métodos del Trapacio y Simpson.

# Interpolación de Lagrange.

### Ejercicio 1.- Sea $P(x)$ el polinomio interpolador de Lagrange de la función $f(x)=\cos(x)$ en los nodos 
### $$ p_k=\frac{k}{5} \qquad (k=0,1,\dots,5) $$ 
 
### [a] Calcula $P(x)$ y represéntalo gráficamente junto con $f(x)$ en el intervalo $[0,1]$.
 
### [b] Calcula una cota superior teórica para el error $|f(x)-P(x)|$ en el intervalo $[0,1]$.
 
### [c] Representa gráficamente la "función error" $|f(x)-P(x)|$ en el intervalo $[0,1]$, comprobando que es menor que la cota obtenida en el apartado (b).

f(x)=cos(x)
f

X=[ k/5 for k in [0..5]] 
X

XY=[(X[k],f(X[k])) for k in [0..5]]
XY

 P(x)=RR['x'].lagrange_polynomial(XY)

show(P)

plot(f,-2,2,color='red')+plot(P,-2,4)+point2d(XY,size=50,color='green') 
abs(diff(f,x,5+1))
plot(abs(diff(f,x,5+1)),0,1)+plot(1,0,1,color='red')

cota=1/factorial(6)
cota,cota.n()

M=1
error(x)=M/factorial(5+1)*prod([abs(x-X[k]) for k in [0..5]]);
show(error)

plot(abs(f(x)-P(x)),x,0,1,legend_label='$y=|f(x)-P(x)|$')+plot(error,0,1,legend_label='$y=error(x)$',color='red')

plot(cota,0,1,color='brown',legend_label='$cota$')+plot(abs(f(x)-P(x)),x,0,1,legend_label='$y=|f(x)-P(x)|$')+plot(error,0,1,legend_label='$y=error(x)$',color='red')
