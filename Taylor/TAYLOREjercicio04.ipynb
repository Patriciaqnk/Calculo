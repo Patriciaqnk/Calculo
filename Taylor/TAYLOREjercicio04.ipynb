{
 "cells": [
  {
   "cell_type": "markdown",
   "metadata": {},
   "source": [
    "# Polinomios de Taylor\n",
    "\n",
    "### EJERCICIO 4.- \n",
    "### Sea $f(x) = \\log(x)$.\n",
    "\n",
    "### a) Calcula su polinomio de Taylor de orden 4 centrado en $x_0 = 2$.\n",
    "\n",
    "### b) Representa gráficamente $f(x)$ y el polinomio de Taylor anterior, en un intervalo donde se aprecie la diferencia entre ambas funciones.\n",
    "\n",
    "### c) Calcula una aproximación de $\\log(2.5)$ utilizando el polinomio de Taylor.\n",
    "\n",
    "### d) Da una cota superior del error absoluto cometido por la aproximación (c).\n",
    "\n",
    "### e) Haz una gráfica donde se aprecie el error cometido, es decir, $|f − P |$, el punto $(2.5, 0)$ y la cota hallada en el apartado (d). Según la gráfica, intuitivamente, ¿para qué valores de $x$ se podría aproximar $f(x)$ con un error menor que la cota hallada?\n"
   ]
  },
  {
   "cell_type": "markdown",
   "metadata": {},
   "source": [
    "SOLUCIÓN:\n",
    "\n",
    "Definimos la función $f(x) = \\log(x)$"
   ]
  },
  {
   "cell_type": "code",
   "execution_count": 1,
   "metadata": {},
   "outputs": [],
   "source": [
    "f(x)=log(x)"
   ]
  },
  {
   "cell_type": "code",
   "execution_count": 2,
   "metadata": {},
   "outputs": [
    {
     "data": {
      "text/plain": [
       "x |--> log(x)"
      ]
     },
     "execution_count": 2,
     "metadata": {},
     "output_type": "execute_result"
    }
   ],
   "source": [
    "f"
   ]
  },
  {
   "cell_type": "markdown",
   "metadata": {},
   "source": [
    "### Apartado a) Calcula su polinomio de Taylor de orden 4 centrado en $x_0 = 2$.\n",
    "\n",
    "El polinomio de Taylor de orden 4 centrado en el 2 es:"
   ]
  },
  {
   "cell_type": "code",
   "execution_count": 3,
   "metadata": {},
   "outputs": [
    {
     "data": {
      "text/plain": [
       "-1/64*(x - 2)^4 + 1/24*(x - 2)^3 - 1/8*(x - 2)^2 + 1/2*x + log(2) - 1"
      ]
     },
     "execution_count": 3,
     "metadata": {},
     "output_type": "execute_result"
    }
   ],
   "source": [
    "P(x)=taylor(f,x,2,4) \n",
    "P(x)"
   ]
  },
  {
   "cell_type": "markdown",
   "metadata": {},
   "source": [
    "### Apartado b) Representa gráficamente $f(x)$ y el polinomio de Taylor anterior, en un intervalo donde se aprecie la diferencia entre ambas funciones.\n",
    "\n",
    "La representación gráfica de $f(x)$ y su polinomio de Taylor es:"
   ]
  },
  {
   "cell_type": "code",
   "execution_count": 4,
   "metadata": {},
   "outputs": [
    {
     "data": {
      "image/png": "[encoded data removed]",
      "text/plain": [
       "Graphics object consisting of 2 graphics primitives"
      ]
     },
     "execution_count": 4,
     "metadata": {},
     "output_type": "execute_result"
    }
   ],
   "source": [
    "plot(f,(x,0,4),legend_label='$y=f(x)$',color='red')+plot(P,(x,0,4),legend_label='$y=P(x)$')"
   ]
  },
  {
   "cell_type": "markdown",
   "metadata": {},
   "source": [
    "### Apartado c) Calcula una aproximación de $\\log(2.5)$ utilizando el polinomio de Taylor.\n",
    "\n",
    "La aproximación pedida es"
   ]
  },
  {
   "cell_type": "code",
   "execution_count": 5,
   "metadata": {},
   "outputs": [
    {
     "data": {
      "text/plain": [
       "0.916128951393279"
      ]
     },
     "execution_count": 5,
     "metadata": {},
     "output_type": "execute_result"
    }
   ],
   "source": [
    "aprox=P(2.5).n(); \n",
    "aprox"
   ]
  },
  {
   "cell_type": "markdown",
   "metadata": {},
   "source": [
    "¡CUIDADO! Si ponemos en el anterior comando "
   ]
  },
  {
   "cell_type": "code",
   "execution_count": 6,
   "metadata": {},
   "outputs": [
    {
     "data": {
      "text/plain": [
       "log(2) + 0.222981770833333"
      ]
     },
     "execution_count": 6,
     "metadata": {},
     "output_type": "execute_result"
    }
   ],
   "source": [
    "aprox=P(2.5);\n",
    "\n",
    "aprox"
   ]
  },
  {
   "cell_type": "markdown",
   "metadata": {},
   "source": [
    "\n",
    "### Apartado d) Da una cota superior del error absoluto cometido por la aproximación (c).\n",
    "\n",
    "OBSERVACIÓN GENERAL:\n",
    "\n",
    "Sabemos que la expresión del error para el polinomio de Taylor $P_n(x)=P_n(f,a)(x)$ de la función $f$ centrado en el punto $a$, de grado $\\leq n$, viene dada por \n",
    "\n",
    "$$|f(x)-P_n(x)|\\leq \\frac{\\|f^{(n+1)}\\|_{[a,x]}}{(n+1)!}|x-a|^{n+1}$$\n",
    "\n",
    "Por tanto, debemos estimar \n",
    "\n",
    "$$M_n=\\|f^{(n+1)}\\|_{[a,x]}$$ \n",
    "\n",
    "EN EL CASO EN EL QUE NOS COMPETE\n",
    "\n",
    "En concreto, para $x=2.5$ y $a=2$\n",
    "\n",
    "$$|f(2.5)-P_n(2.5)|\\leq \\frac{\\|f^{(n+1)}\\|_{[2,2.5]}}{(n+1)!}|2.5-2|^{n+1}$$\n",
    "y estimamos\n",
    "\n",
    "$$M_n=\\|f^{(n+1)}\\|_{[2,2.5]}$$\n",
    "\n",
    "Como las sucesivas derivadas de $\\log(t)$ son $1/t$, $-1/t^{2}$, $2/t^{3}$,  $-6/t^{4}$, podemos concluir que $f^{(n+1)}=(-1)^{n+1}n!/t^{n+1}$ para todo n.\n",
    "\n",
    "En nuestro caso, $n=4$, luego, \n",
    "\n",
    "$$M_4=4!/2^{5}$$\n",
    "\n",
    "Por tanto, la cota es: "
   ]
  },
  {
   "cell_type": "code",
   "execution_count": 7,
   "metadata": {},
   "outputs": [
    {
     "data": {
      "text/plain": [
       "3/4"
      ]
     },
     "execution_count": 7,
     "metadata": {},
     "output_type": "execute_result"
    }
   ],
   "source": [
    "M=factorial(4)*2^(-5)\n",
    "M"
   ]
  },
  {
   "cell_type": "code",
   "execution_count": 8,
   "metadata": {},
   "outputs": [
    {
     "data": {
      "text/plain": [
       "0.000195312500000000"
      ]
     },
     "execution_count": 8,
     "metadata": {},
     "output_type": "execute_result"
    }
   ],
   "source": [
    "cota=M*0.5^(5)/factorial(5)\n",
    "cota"
   ]
  },
  {
   "cell_type": "markdown",
   "metadata": {},
   "source": [
    "Comprobamos que la cota es correcta."
   ]
  },
  {
   "cell_type": "code",
   "execution_count": 9,
   "metadata": {},
   "outputs": [
    {
     "data": {
      "text/plain": [
       "0.000161780480876561"
      ]
     },
     "execution_count": 9,
     "metadata": {},
     "output_type": "execute_result"
    }
   ],
   "source": [
    "error=abs(f(2.5)-P(2.5)).n()\n",
    "error"
   ]
  },
  {
   "cell_type": "code",
   "execution_count": 10,
   "metadata": {},
   "outputs": [
    {
     "data": {
      "text/plain": [
       "True"
      ]
     },
     "execution_count": 10,
     "metadata": {},
     "output_type": "execute_result"
    }
   ],
   "source": [
    "error.n() < cota.n()"
   ]
  },
  {
   "cell_type": "markdown",
   "metadata": {},
   "source": [
    "OTRA FORMA DE ACOTAR:\n",
    "\n",
    "Mostramos gráficamente la función y observamos a ojo cual es la cota del error."
   ]
  },
  {
   "cell_type": "code",
   "execution_count": 11,
   "metadata": {},
   "outputs": [
    {
     "data": {
      "image/png": "[encoded data removed]",
      "text/plain": [
       "Graphics object consisting of 2 graphics primitives"
      ]
     },
     "execution_count": 11,
     "metadata": {},
     "output_type": "execute_result"
    }
   ],
   "source": [
    "plot(abs(diff(f(x),x,5)),(x,2,2.5))+plot(0.76,(x,2,2.5),color='red')"
   ]
  },
  {
   "cell_type": "markdown",
   "metadata": {},
   "source": [
    "Podemos tomar $M_4=0.76$ para la cota"
   ]
  },
  {
   "cell_type": "code",
   "execution_count": 12,
   "metadata": {},
   "outputs": [
    {
     "data": {
      "text/plain": [
       "0.000197916666666667"
      ]
     },
     "execution_count": 12,
     "metadata": {},
     "output_type": "execute_result"
    }
   ],
   "source": [
    "cota2=0.76*0.5^(5)/factorial(5)\n",
    "cota2"
   ]
  },
  {
   "cell_type": "code",
   "execution_count": 13,
   "metadata": {},
   "outputs": [
    {
     "data": {
      "text/plain": [
       "True"
      ]
     },
     "execution_count": 13,
     "metadata": {},
     "output_type": "execute_result"
    }
   ],
   "source": [
    "error.n() < cota2.n()"
   ]
  },
  {
   "cell_type": "markdown",
   "metadata": {},
   "source": [
    "### Apartado e) Haz una gráfica donde se aprecie el error cometido, es decir, $|f − P |$, el punto $(2.5, 0)$ y la cota hallada en el apartado (d). Según la gráfica, intuitivamente, ¿para qué valores de $x$ se podría aproximar $f(x)$ con un error menor que la cota hallada?\n",
    "\n",
    "En la siguiente gráfica se aprecia que alrededor del intervalo $[1.3,2.8]$ (más o menos) el polinomio aproxima la función con un error menor o igual que la cota hallada. Es más, el intervalo $[1.6,2.5]$ se mantiene por debajo de la cota hallada. También dibujamos el punto $(2.5,0)$ tal y como nos piden en el enunciado del problema."
   ]
  },
  {
   "cell_type": "code",
   "execution_count": 14,
   "metadata": {},
   "outputs": [
    {
     "data": {
      "image/png": "[encoded data removed]",
      "text/plain": [
       "Graphics object consisting of 3 graphics primitives"
      ]
     },
     "execution_count": 14,
     "metadata": {},
     "output_type": "execute_result"
    }
   ],
   "source": [
    "plot(abs(f(x)-P(x)),(x,1.3,2.8))+plot(cota,(x,1.3,2.8),color='red')+point2d([[2.5,0]],size=50)"
   ]
  },
  {
   "cell_type": "markdown",
   "metadata": {},
   "source": [
    "Si queremos más precisión, tan sólo hay que encontrar los puntos de intersección de las dos curvas:"
   ]
  },
  {
   "cell_type": "code",
   "execution_count": 15,
   "metadata": {},
   "outputs": [
    {
     "data": {
      "text/plain": [
       "1.5218912697109852"
      ]
     },
     "execution_count": 15,
     "metadata": {},
     "output_type": "execute_result"
    }
   ],
   "source": [
    "a=find_root (abs(f(x)-P(x)) - cota, 1,2 ) \n",
    "a"
   ]
  },
  {
   "cell_type": "code",
   "execution_count": 16,
   "metadata": {},
   "outputs": [
    {
     "data": {
      "text/plain": [
       "2.5198997112842196"
      ]
     },
     "execution_count": 16,
     "metadata": {},
     "output_type": "execute_result"
    }
   ],
   "source": [
    "b=find_root (abs(f(x)-P(x)) - cota, 2,3 ) \n",
    "b"
   ]
  },
  {
   "cell_type": "markdown",
   "metadata": {},
   "source": [
    "Con lo cual el intervalo es:"
   ]
  },
  {
   "cell_type": "code",
   "execution_count": 18,
   "metadata": {},
   "outputs": [
    {
     "data": {
      "text/plain": [
       "[1.5218912697109852, 2.5198997112842196]"
      ]
     },
     "execution_count": 18,
     "metadata": {},
     "output_type": "execute_result"
    }
   ],
   "source": [
    "[a,b]"
   ]
  }
 ],
 "metadata": {
  "kernelspec": {
   "display_name": "SageMath 9.0",
   "language": "sage",
   "name": "sagemath"
  },
  "language_info": {
   "codemirror_mode": {
    "name": "ipython",
    "version": 3
   },
   "file_extension": ".py",
   "mimetype": "text/x-python",
   "name": "python",
   "nbconvert_exporter": "python",
   "pygments_lexer": "ipython3",
   "version": "3.8.10"
  }
 },
 "nbformat": 4,
 "nbformat_minor": 2
}
