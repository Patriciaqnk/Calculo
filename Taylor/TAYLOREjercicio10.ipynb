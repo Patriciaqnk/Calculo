{
 "cells": [
  {
   "cell_type": "markdown",
   "metadata": {},
   "source": [
    "# Polinomios de Taylor\n",
    "\n",
    "### EJERCICIO 10.- \n",
    "\n",
    "### Determina para qué valores de $x$ se puede sustituir $\\sin x$ por $x - x^{3} /6$ si el error absoluto máximo permitido es $10^{-3}$, utilizando la cota de error del polinomio de Taylor. Representa gráficamente el problema.\n"
   ]
  },
  {
   "cell_type": "markdown",
   "metadata": {},
   "source": [
    "SOLUCIÓN:\n",
    "\n",
    "Definimos la función $f(x) = \\sin(x)$"
   ]
  },
  {
   "cell_type": "code",
   "execution_count": 1,
   "metadata": {},
   "outputs": [],
   "source": [
    "f(x)=sin(x)"
   ]
  },
  {
   "cell_type": "code",
   "execution_count": 2,
   "metadata": {},
   "outputs": [
    {
     "data": {
      "text/plain": [
       "x |--> sin(x)"
      ]
     },
     "execution_count": 2,
     "metadata": {},
     "output_type": "execute_result"
    }
   ],
   "source": [
    "f"
   ]
  },
  {
   "cell_type": "markdown",
   "metadata": {},
   "source": [
    "Veamos que orden tiene el polinomio de Taylor de la función seno cuya expresión es $x - x^{3} /6$"
   ]
  },
  {
   "cell_type": "code",
   "execution_count": 3,
   "metadata": {},
   "outputs": [
    {
     "data": {
      "text/html": [
       "<html><script type=\"math/tex; mode=display\">\\newcommand{\\Bold}[1]{\\mathbf{#1}}x</script></html>"
      ],
      "text/plain": [
       "x"
      ]
     },
     "metadata": {},
     "output_type": "display_data"
    },
    {
     "data": {
      "text/html": [
       "<html><script type=\"math/tex; mode=display\">\\newcommand{\\Bold}[1]{\\mathbf{#1}}x</script></html>"
      ],
      "text/plain": [
       "x"
      ]
     },
     "metadata": {},
     "output_type": "display_data"
    },
    {
     "data": {
      "text/html": [
       "<html><script type=\"math/tex; mode=display\">\\newcommand{\\Bold}[1]{\\mathbf{#1}}-\\frac{1}{6} \\, x^{3} + x</script></html>"
      ],
      "text/plain": [
       "-1/6*x^3 + x"
      ]
     },
     "metadata": {},
     "output_type": "display_data"
    },
    {
     "data": {
      "text/html": [
       "<html><script type=\"math/tex; mode=display\">\\newcommand{\\Bold}[1]{\\mathbf{#1}}-\\frac{1}{6} \\, x^{3} + x</script></html>"
      ],
      "text/plain": [
       "-1/6*x^3 + x"
      ]
     },
     "metadata": {},
     "output_type": "display_data"
    },
    {
     "data": {
      "text/html": [
       "<html><script type=\"math/tex; mode=display\">\\newcommand{\\Bold}[1]{\\mathbf{#1}}\\frac{1}{120} \\, x^{5} - \\frac{1}{6} \\, x^{3} + x</script></html>"
      ],
      "text/plain": [
       "1/120*x^5 - 1/6*x^3 + x"
      ]
     },
     "metadata": {},
     "output_type": "display_data"
    }
   ],
   "source": [
    "show(taylor(sin(x),x,0,1))\n",
    "show(taylor(sin(x),x,0,2))\n",
    "show(taylor(sin(x),x,0,3))\n",
    "show(taylor(sin(x),x,0,4))\n",
    "show(taylor(sin(x),x,0,5))"
   ]
  },
  {
   "cell_type": "markdown",
   "metadata": {},
   "source": [
    "Tomamos el polinomio de Taylor:"
   ]
  },
  {
   "cell_type": "code",
   "execution_count": 4,
   "metadata": {
    "scrolled": true
   },
   "outputs": [
    {
     "data": {
      "text/html": [
       "<html><script type=\"math/tex; mode=display\">\\newcommand{\\Bold}[1]{\\mathbf{#1}}-\\frac{1}{6} \\, x^{3} + x</script></html>"
      ],
      "text/plain": [
       "-1/6*x^3 + x"
      ]
     },
     "metadata": {},
     "output_type": "display_data"
    }
   ],
   "source": [
    "P(x)=taylor(sin(x),x,0,4) \n",
    "show(P(x))"
   ]
  },
  {
   "cell_type": "markdown",
   "metadata": {},
   "source": [
    "Veamos cómo es la aproximación intuitivamente usando plot."
   ]
  },
  {
   "cell_type": "code",
   "execution_count": 5,
   "metadata": {},
   "outputs": [
    {
     "data": {
      "image/png": "[encoded data removed]",
      "text/plain": [
       "Graphics object consisting of 2 graphics primitives"
      ]
     },
     "execution_count": 5,
     "metadata": {},
     "output_type": "execute_result"
    }
   ],
   "source": [
    "plot(f,-1.2,1.2)+plot(P,-1.2,1.2,color='red')"
   ]
  },
  {
   "cell_type": "markdown",
   "metadata": {},
   "source": [
    "OBSERVACIÓN GENERAL:\n",
    "\n",
    "Sabemos que la expresión del error para el polinomio de Taylor $P_n(x)=P_n(f,a)(x)$ de la función $f$ centrado en el punto $a$, de grado $\\leq n$, viene dada por \n",
    "\n",
    "$$|f(x)-P_n(x)|\\leq \\frac{\\|f^{(n+1)}\\|_{[a,x]}}{(n+1)!}|x-a|^{n+1}$$\n",
    "\n",
    "Por tanto, debemos estimar \n",
    "\n",
    "$$M_n=\\|f^{(n+1)}\\|_{[a,x]}$$ \n",
    "\n",
    "EN EL CASO EN EL QUE NOS COMPETE\n",
    "\n",
    "En concreto, para $x$ está por determinar, $a=0$ y $n=4$\n",
    "\n",
    "$$|f(x)-P_4(x)|\\leq \\frac{\\|f^{(5)}\\|_{[0,x]}}{5!}|x-0|^{5}$$\n",
    "y estimamos\n",
    "\n",
    "$$M_4=\\|f^{(5)}\\|_{[0,x]}$$\n",
    "\n",
    "Como las sucesivas derivadas de $\\sin(t)$ son $\\cos(t)$, $-\\sin (t)$, $-\\cos (t)$, y  $\\sin(t)$, podemos concluir que $M_n=1$ para todo n. \n",
    "\n",
    "Por tanto, la cota es: "
   ]
  },
  {
   "cell_type": "code",
   "execution_count": 6,
   "metadata": {},
   "outputs": [
    {
     "data": {
      "text/plain": [
       "1/120*abs(x)^5"
      ]
     },
     "execution_count": 6,
     "metadata": {},
     "output_type": "execute_result"
    }
   ],
   "source": [
    "cota(x)=abs(x)^5/factorial(5)\n",
    "cota(x)"
   ]
  },
  {
   "cell_type": "markdown",
   "metadata": {},
   "source": [
    "Ahora buscamos valores de $x$ para el que dicha cota sea menor que $10^{-3}$:\n",
    "\n",
    "$$\\frac{|x|^5}{120}\\leq 10^{-3} \\Rightarrow |x|^5\\leq 10^{-3}\\cdot 120\\Rightarrow |x|\\leq \\left(10^{-3}\\cdot 120\\right)^{\\frac{1}{5}}$$"
   ]
  },
  {
   "cell_type": "code",
   "execution_count": 7,
   "metadata": {},
   "outputs": [
    {
     "name": "stdout",
     "output_type": "stream",
     "text": [
      "('x debe estar entre ', -0.654389389941237, 'y', 0.654389389941237)\n"
     ]
    }
   ],
   "source": [
    "r=(120*10^(-3))^(1/5).n()\n",
    "print('x debe estar entre ',-r, 'y' , r)"
   ]
  },
  {
   "cell_type": "markdown",
   "metadata": {},
   "source": [
    "La representación gráfica de la función $f(x)$ y el polinomio $P(x)$ en el intervalo $[-r- 0.5,r+0.5]$ indica que el polinomio aproxima muy bien la función, y podréis pensar que el valor de a podría ser mayor:"
   ]
  },
  {
   "cell_type": "code",
   "execution_count": 8,
   "metadata": {},
   "outputs": [
    {
     "data": {
      "image/png": "[encoded data removed]",
      "text/plain": [
       "Graphics object consisting of 4 graphics primitives"
      ]
     },
     "execution_count": 8,
     "metadata": {},
     "output_type": "execute_result"
    }
   ],
   "source": [
    "plot(sin(x),(x,-r-.5,r+.5),legend_label='$y=sen(x)$')+plot(P,(x,-\n",
    "r-.5,r+.5),legend_label='$y=P(x)$',color='red')+point2d([[r,0]],color='black',size=50)+point2d([[-\n",
    " r,0]],color='black',size=50)"
   ]
  },
  {
   "cell_type": "markdown",
   "metadata": {},
   "source": [
    "Pero podemos verlo mejor dibujando la función de \"error\" $|f(x) − P (x)|$ en dicho intervalo"
   ]
  },
  {
   "cell_type": "code",
   "execution_count": 9,
   "metadata": {},
   "outputs": [
    {
     "data": {
      "image/png": "[encoded data removed]",
      "text/plain": [
       "Graphics object consisting of 4 graphics primitives"
      ]
     },
     "execution_count": 9,
     "metadata": {},
     "output_type": "execute_result"
    }
   ],
   "source": [
    "plot(abs(f(x)-P(x)),(x,-r-0.5,r+0.5))+plot(10^(-3),(x,-r-0.5,r+0.5),color='red')+point2d([[r,0]],size=50)+point2d([[-r,0]],size=50)"
   ]
  },
  {
   "cell_type": "markdown",
   "metadata": {},
   "source": [
    "OBSERVACIONES FINALES:\n",
    "\n",
    "¿Qué pasa si en vez de usar el polinomio de Taylor de orden 4, usamos el polinomio de Taylor de orden 3? Obsérvese que en este caso particular ambos polinomios coinciden pero no sus cotas del error."
   ]
  },
  {
   "cell_type": "code",
   "execution_count": 10,
   "metadata": {},
   "outputs": [
    {
     "data": {
      "text/html": [
       "<html><script type=\"math/tex; mode=display\">\\newcommand{\\Bold}[1]{\\mathbf{#1}}-\\frac{1}{6} \\, x^{3} + x</script></html>"
      ],
      "text/plain": [
       "-1/6*x^3 + x"
      ]
     },
     "metadata": {},
     "output_type": "display_data"
    }
   ],
   "source": [
    "Q(x)=taylor(sin(x),x,0,3) \n",
    "show(Q(x))"
   ]
  },
  {
   "cell_type": "code",
   "execution_count": 11,
   "metadata": {},
   "outputs": [
    {
     "data": {
      "text/plain": [
       "1/24*abs(x)^4"
      ]
     },
     "execution_count": 11,
     "metadata": {},
     "output_type": "execute_result"
    }
   ],
   "source": [
    "cota(x)=abs(x)^4/factorial(4)\n",
    "cota(x)"
   ]
  },
  {
   "cell_type": "markdown",
   "metadata": {},
   "source": [
    "En este caso,\n",
    "\n",
    "$$\\frac{|x|^4}{24}\\leq 10^{-3} \\Rightarrow |x|^4\\leq 10^{-3}\\cdot 24\\Rightarrow |x|\\leq \\left(10^{-3}\\cdot 24\\right)^{\\frac{1}{4}}$$"
   ]
  },
  {
   "cell_type": "code",
   "execution_count": 12,
   "metadata": {},
   "outputs": [
    {
     "name": "stdout",
     "output_type": "stream",
     "text": [
      "('x debe estar entre ', -0.393597934253086, 'y', 0.393597934253086)\n"
     ]
    }
   ],
   "source": [
    "a2=(24*10^(-3))^(1/4).n()\n",
    "print('x debe estar entre ',-a2, 'y' , a2)"
   ]
  },
  {
   "cell_type": "markdown",
   "metadata": {},
   "source": [
    "El intervalo ha cambiado una barbaridad y se ha reducido muchísimo. Por lo que hay que tener cuidado a la hora de buscar la mejor cota del error."
   ]
  }
 ],
 "metadata": {
  "kernelspec": {
   "display_name": "SageMath 9.0",
   "language": "sage",
   "name": "sagemath"
  },
  "language_info": {
   "codemirror_mode": {
    "name": "ipython",
    "version": 3
   },
   "file_extension": ".py",
   "mimetype": "text/x-python",
   "name": "python",
   "nbconvert_exporter": "python",
   "pygments_lexer": "ipython3",
   "version": "3.8.10"
  }
 },
 "nbformat": 4,
 "nbformat_minor": 2
}
