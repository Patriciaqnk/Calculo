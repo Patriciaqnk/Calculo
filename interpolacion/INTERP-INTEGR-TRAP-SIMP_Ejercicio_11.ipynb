{
 "cells": [
  {
   "cell_type": "markdown",
   "metadata": {},
   "source": [
    "# Interpolación. Integración numérica: métodos del Trapacio y Simpson.\n",
    "\n",
    "# Integración numérica: Método del Trapecio\n",
    "\n",
    "### Ejercicio 11.-  Se considera la integral  \n",
    "### $$  \\int_2^{4} \\frac{\\sin(x)}{x} \\, dx $$\n",
    "### (a) Calcula la aproximación de dicha integral mediante el Método del Trapecio con $n=20$ subintervalos.\n",
    "\n",
    "### (b)  Da una cota superior teórica del error absoluto de la aproximación obtenida en (a).\n",
    "\n",
    "### (c) Compara tu aproximación con la calculada por SAGE y representa gráficamente el problema.\n",
    "\n",
    "SOLUCIÓN\n",
    "\n",
    "### (a) Calcula la aproximación de dicha integral mediante el Método del Trapecio con $n=20$ subintervalos: "
   ]
  },
  {
   "cell_type": "markdown",
   "metadata": {},
   "source": [
    "### Método del Trapecio\n",
    "\n",
    "En el método del Trapecio subdividimos el intervalo $[a,b]$ con siguientes nodos equiespaciados: \n",
    "$$x_k=a+k\\cdot \\frac{b-a}{n}$$\n",
    "para $k=0,1,\\dots,n$.\n",
    "\n",
    "La fórmula del Método del Trapecio nos aproxima la integral de una función $f(x)$ en el intervalo $[a,b]$ de la siguiente forma:\n",
    "$$\\displaystyle \\int_a^b  {f(x)} \\, dx \\ \\approx \\dfrac{b-a}{2n}\\Bigl(f(a)+2f(x_1)+\\dots+2f(x_{n-1})+f(b)\\Bigr)$$"
   ]
  },
  {
   "cell_type": "markdown",
   "metadata": {},
   "source": [
    "Comenzamos definiendo la función y los nodos para nuestro caso en particular:"
   ]
  },
  {
   "cell_type": "code",
   "execution_count": 1,
   "metadata": {},
   "outputs": [
    {
     "data": {
      "text/plain": [
       "x |--> sin(x)/x"
      ]
     },
     "execution_count": 1,
     "metadata": {},
     "output_type": "execute_result"
    }
   ],
   "source": [
    "f(x)=sin(x)/x\n",
    "f"
   ]
  },
  {
   "cell_type": "code",
   "execution_count": 2,
   "metadata": {},
   "outputs": [],
   "source": [
    "a=2;\n",
    "b=4;\n",
    "n=20;"
   ]
  },
  {
   "cell_type": "code",
   "execution_count": 3,
   "metadata": {},
   "outputs": [
    {
     "data": {
      "text/html": [
       "<html>\\(\\displaystyle \\left[2, \\frac{21}{10}, \\frac{11}{5}, \\frac{23}{10}, \\frac{12}{5}, \\frac{5}{2}, \\frac{13}{5}, \\frac{27}{10}, \\frac{14}{5}, \\frac{29}{10}, 3, \\frac{31}{10}, \\frac{16}{5}, \\frac{33}{10}, \\frac{17}{5}, \\frac{7}{2}, \\frac{18}{5}, \\frac{37}{10}, \\frac{19}{5}, \\frac{39}{10}, 4\\right]\\)</html>"
      ],
      "text/latex": [
       "$\\displaystyle \\left[2, \\frac{21}{10}, \\frac{11}{5}, \\frac{23}{10}, \\frac{12}{5}, \\frac{5}{2}, \\frac{13}{5}, \\frac{27}{10}, \\frac{14}{5}, \\frac{29}{10}, 3, \\frac{31}{10}, \\frac{16}{5}, \\frac{33}{10}, \\frac{17}{5}, \\frac{7}{2}, \\frac{18}{5}, \\frac{37}{10}, \\frac{19}{5}, \\frac{39}{10}, 4\\right]$"
      ],
      "text/plain": [
       "[2,\n",
       " 21/10,\n",
       " 11/5,\n",
       " 23/10,\n",
       " 12/5,\n",
       " 5/2,\n",
       " 13/5,\n",
       " 27/10,\n",
       " 14/5,\n",
       " 29/10,\n",
       " 3,\n",
       " 31/10,\n",
       " 16/5,\n",
       " 33/10,\n",
       " 17/5,\n",
       " 7/2,\n",
       " 18/5,\n",
       " 37/10,\n",
       " 19/5,\n",
       " 39/10,\n",
       " 4]"
      ]
     },
     "metadata": {},
     "output_type": "display_data"
    }
   ],
   "source": [
    "X=[a+k*(b-a)/n for k in range(0,n+1)]\n",
    "show(X)"
   ]
  },
  {
   "cell_type": "markdown",
   "metadata": {},
   "source": [
    "El valor aproximado de la integral usando el Método del trapecio es:"
   ]
  },
  {
   "cell_type": "code",
   "execution_count": 4,
   "metadata": {},
   "outputs": [
    {
     "data": {
      "text/plain": [
       "0.153056270644161"
      ]
     },
     "execution_count": 4,
     "metadata": {},
     "output_type": "execute_result"
    }
   ],
   "source": [
    "trapecio=(b-a)/(2*n)*(f(a)+2*sum(f(X[k]) for k in range(1,n))+f(b))\n",
    "trapecio.n()"
   ]
  },
  {
   "cell_type": "markdown",
   "metadata": {},
   "source": [
    "Veamos el significado de lo que acabamos de calcular: informalmente hablando, se suma el área encima del eje X y se resta la de debajo"
   ]
  },
  {
   "cell_type": "code",
   "execution_count": 5,
   "metadata": {},
   "outputs": [
    {
     "data": {
      "image/png": "[encoded data removed]",
      "text/plain": [
       "Graphics object consisting of 2 graphics primitives"
      ]
     },
     "execution_count": 5,
     "metadata": {},
     "output_type": "execute_result"
    }
   ],
   "source": [
    "plot(f,x,a,b,fill=true)"
   ]
  },
  {
   "cell_type": "markdown",
   "metadata": {},
   "source": [
    "### (b) Da una cota superior teórica del error absoluto de la aproximación obtenida en (a):\n",
    "\n",
    "### Cota del error en el Método del Trapecio \n",
    "La cota del error absoluto cometido en el Método del Trapecio la podemos dar de la siguiente forma: \n",
    "\n",
    "Dada una constante M de forma que $|f''(x)|\\leq M$ para todo $x\\in [a,b]$. \n",
    "$$\\displaystyle \\left| {\\rm Trapecio}_{n}(f)-\\int_a^b f(x) \\, dx\\right| \\leq \\dfrac{(b-a)^3}{12\\cdot n^2}\\cdot M $$\n",
    "\n",
    "Para determinar $M$ calculamos $f''(x)$ y la representamos gráficamente en $[a,b]$:"
   ]
  },
  {
   "cell_type": "code",
   "execution_count": 6,
   "metadata": {},
   "outputs": [
    {
     "data": {
      "text/html": [
       "<html>\\(\\displaystyle -\\frac{\\sin\\left(x\\right)}{x} - \\frac{2 \\, \\cos\\left(x\\right)}{x^{2}} + \\frac{2 \\, \\sin\\left(x\\right)}{x^{3}}\\)</html>"
      ],
      "text/latex": [
       "$\\displaystyle -\\frac{\\sin\\left(x\\right)}{x} - \\frac{2 \\, \\cos\\left(x\\right)}{x^{2}} + \\frac{2 \\, \\sin\\left(x\\right)}{x^{3}}$"
      ],
      "text/plain": [
       "-sin(x)/x - 2*cos(x)/x^2 + 2*sin(x)/x^3"
      ]
     },
     "metadata": {},
     "output_type": "display_data"
    }
   ],
   "source": [
    "show(derivative(f(x),x,2))"
   ]
  },
  {
   "cell_type": "code",
   "execution_count": 7,
   "metadata": {},
   "outputs": [
    {
     "data": {
      "image/png": "[encoded data removed]",
      "text/plain": [
       "Graphics object consisting of 2 graphics primitives"
      ]
     },
     "execution_count": 7,
     "metadata": {},
     "output_type": "execute_result"
    }
   ],
   "source": [
    "plot(abs(derivative(f(x),x,2)),a,b)+plot(0.25,a,b,color='red')"
   ]
  },
  {
   "cell_type": "markdown",
   "metadata": {},
   "source": [
    "<p>En esta gráfica se observa que la constante $M=0.25$ cumple $|f''(x)|\\leq M$ para todo $x\\in [a,b]$.</p>\n",
    "<p>Por tanto, una cota superior del error absoluto cometido es:</p>"
   ]
  },
  {
   "cell_type": "code",
   "execution_count": 8,
   "metadata": {},
   "outputs": [
    {
     "data": {
      "text/plain": [
       "0.000416666666666667"
      ]
     },
     "execution_count": 8,
     "metadata": {},
     "output_type": "execute_result"
    }
   ],
   "source": [
    "M=0.25;\n",
    "cota=(b-a)^3/(12*n^2)*M;\n",
    "cota"
   ]
  },
  {
   "cell_type": "markdown",
   "metadata": {},
   "source": [
    "### (c) Compara tu aproximación con la calculada por SAGE y representa gráficamente el problema.\n",
    "\n",
    "\n",
    "Vamos a comprobar que efectivamente el error cometido es menor que la cota encontrada. Para ello comparamos nuestro resultado con el Método del Trapecio con el dado por el propio SAGE,"
   ]
  },
  {
   "cell_type": "code",
   "execution_count": 9,
   "metadata": {},
   "outputs": [
    {
     "data": {
      "text/plain": [
       "0.152790162146358 + 1.38777878078145e-17*I"
      ]
     },
     "execution_count": 9,
     "metadata": {},
     "output_type": "execute_result"
    }
   ],
   "source": [
    "integral(f(x),x,a,b).n()"
   ]
  },
  {
   "cell_type": "code",
   "execution_count": 10,
   "metadata": {},
   "outputs": [
    {
     "data": {
      "text/plain": [
       "0.153056270644161"
      ]
     },
     "execution_count": 10,
     "metadata": {},
     "output_type": "execute_result"
    }
   ],
   "source": [
    "trapecio.n()"
   ]
  },
  {
   "cell_type": "markdown",
   "metadata": {},
   "source": [
    "<p>y la comparamos con el resultado obtenido por el método del trapecio calculando el valor absoluto de la diferencia:</p>"
   ]
  },
  {
   "cell_type": "code",
   "execution_count": 11,
   "metadata": {},
   "outputs": [
    {
     "data": {
      "text/plain": [
       "0.000266108497803119"
      ]
     },
     "execution_count": 11,
     "metadata": {},
     "output_type": "execute_result"
    }
   ],
   "source": [
    "error=abs(trapecio-integral(f(x),x,a,b));\n",
    "error.n()"
   ]
  },
  {
   "cell_type": "markdown",
   "metadata": {},
   "source": [
    "<p>que es menor que $cota=0.00041\\ldots$:</p>"
   ]
  },
  {
   "cell_type": "code",
   "execution_count": 12,
   "metadata": {},
   "outputs": [
    {
     "data": {
      "text/plain": [
       "True"
      ]
     },
     "execution_count": 12,
     "metadata": {},
     "output_type": "execute_result"
    }
   ],
   "source": [
    "error.n()<cota"
   ]
  },
  {
   "cell_type": "markdown",
   "metadata": {},
   "source": [
    "Para ver gráficamente lo qué hemos calculado con el método del TRAPECIO calculamos la integral definida por la función interpoladora lineal a trozos en los nodos considerados, en rojo."
   ]
  },
  {
   "cell_type": "code",
   "execution_count": 13,
   "metadata": {},
   "outputs": [
    {
     "data": {
      "text/html": [
       "<html>\\(\\displaystyle \\left[2, \\frac{21}{10}, \\frac{11}{5}, \\frac{23}{10}, \\frac{12}{5}, \\frac{5}{2}, \\frac{13}{5}, \\frac{27}{10}, \\frac{14}{5}, \\frac{29}{10}, 3, \\frac{31}{10}, \\frac{16}{5}, \\frac{33}{10}, \\frac{17}{5}, \\frac{7}{2}, \\frac{18}{5}, \\frac{37}{10}, \\frac{19}{5}, \\frac{39}{10}, 4\\right]\\)</html>"
      ],
      "text/latex": [
       "$\\displaystyle \\left[2, \\frac{21}{10}, \\frac{11}{5}, \\frac{23}{10}, \\frac{12}{5}, \\frac{5}{2}, \\frac{13}{5}, \\frac{27}{10}, \\frac{14}{5}, \\frac{29}{10}, 3, \\frac{31}{10}, \\frac{16}{5}, \\frac{33}{10}, \\frac{17}{5}, \\frac{7}{2}, \\frac{18}{5}, \\frac{37}{10}, \\frac{19}{5}, \\frac{39}{10}, 4\\right]$"
      ],
      "text/plain": [
       "[2,\n",
       " 21/10,\n",
       " 11/5,\n",
       " 23/10,\n",
       " 12/5,\n",
       " 5/2,\n",
       " 13/5,\n",
       " 27/10,\n",
       " 14/5,\n",
       " 29/10,\n",
       " 3,\n",
       " 31/10,\n",
       " 16/5,\n",
       " 33/10,\n",
       " 17/5,\n",
       " 7/2,\n",
       " 18/5,\n",
       " 37/10,\n",
       " 19/5,\n",
       " 39/10,\n",
       " 4]"
      ]
     },
     "metadata": {},
     "output_type": "display_data"
    }
   ],
   "source": [
    "show(X) \n",
    "XY=[(X[j],f(X[j])) for j in range(0,n+1)]; \n",
    "r(c,d,x)=(f(d)-f(c))/(d-c)*(x-c)+f(c)\n",
    "L=piecewise([[(X[j],X[j+1]),r(X[j],X[j+1],x)] for j in range(0,n)],var=x);"
   ]
  },
  {
   "cell_type": "code",
   "execution_count": 14,
   "metadata": {},
   "outputs": [
    {
     "data": {
      "image/png": "[encoded data removed]",
      "text/plain": [
       "Graphics object consisting of 4 graphics primitives"
      ]
     },
     "execution_count": 14,
     "metadata": {},
     "output_type": "execute_result"
    }
   ],
   "source": [
    "point2d(XY,size=50,color='red')+plot(f,a,b)+plot(L(x),a,b,color='red',fill=true)\n",
    "#el fill está evidentemente en el plot de L"
   ]
  }
 ],
 "metadata": {
  "kernelspec": {
   "display_name": "SageMath 10.0",
   "language": "sage",
   "name": "sagemath-10.0"
  },
  "language": "python",
  "language_info": {
   "codemirror_mode": {
    "name": "ipython",
    "version": 3
   },
   "file_extension": ".py",
   "mimetype": "text/x-python",
   "name": "python",
   "nbconvert_exporter": "python",
   "pygments_lexer": "ipython3",
   "version": "3.11.1"
  }
 },
 "nbformat": 4,
 "nbformat_minor": 4
}
