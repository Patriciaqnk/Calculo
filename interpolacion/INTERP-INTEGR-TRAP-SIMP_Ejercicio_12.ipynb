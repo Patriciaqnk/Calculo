{
 "cells": [
  {
   "cell_type": "markdown",
   "metadata": {},
   "source": [
    "# Interpolación. Integración numérica: métodos del Trapacio y Simpson.\n",
    "\n",
    "# Integración numérica: Método del Trapecio\n",
    "\n",
    "### Ejercicio 12.-  Se considera la integral  \n",
    "### $$  \\int_1^{3} \\frac{\\cos(x)}{x} \\, dx $$\n",
    "### (a) Calcula la aproximación de dicha integral mediante el Método del Trapecio con $n=25$ subintervalos.\n",
    "\n",
    "### (b)  Da una cota superior teórica del error absoluto de la aproximación obtenida en (a).\n",
    "\n",
    "### (c) Compara tu aproximación con la calculada por SAGE y representa gráficamente el problema.\n",
    "\n",
    "SOLUCIÓN\n",
    "\n",
    "### (a) Calcula la aproximación de dicha integral mediante el Método del Trapecio con $n=25$ subintervalos: "
   ]
  },
  {
   "cell_type": "markdown",
   "metadata": {},
   "source": [
    "### Método del Trapecio\n",
    "\n",
    "En el método del Trapecio subdividimos el intervalo $[a,b]$ con siguientes nodos equiespaciados: \n",
    "$$x_k=a+k\\cdot \\frac{b-a}{n}$$\n",
    "para $k=0,1,\\dots,n$.\n",
    "\n",
    "La fórmula del Método del Trapecio nos aproxima la integral de una función $f(x)$ en el intervalo $[a,b]$ de la siguiente forma:\n",
    "$$\\displaystyle \\int_a^b  {f(x)} \\, dx \\ \\approx \\dfrac{b-a}{2n}\\Bigl(f(a)+2f(x_1)+\\dots+2f(x_{n-1})+f(b)\\Bigr)$$"
   ]
  },
  {
   "cell_type": "markdown",
   "metadata": {},
   "source": [
    "Comenzamos definiendo la función y los nodos para nuestro caso en particular:"
   ]
  },
  {
   "cell_type": "code",
   "execution_count": 1,
   "metadata": {},
   "outputs": [
    {
     "data": {
      "text/plain": [
       "x |--> cos(x)/x"
      ]
     },
     "execution_count": 1,
     "metadata": {},
     "output_type": "execute_result"
    }
   ],
   "source": [
    "f(x)=cos(x)/x\n",
    "f"
   ]
  },
  {
   "cell_type": "code",
   "execution_count": 2,
   "metadata": {},
   "outputs": [],
   "source": [
    "a=1;\n",
    "b=3;\n",
    "n=25;"
   ]
  },
  {
   "cell_type": "code",
   "execution_count": 3,
   "metadata": {},
   "outputs": [
    {
     "data": {
      "text/html": [
       "<html>\\(\\displaystyle \\left[1, \\frac{27}{25}, \\frac{29}{25}, \\frac{31}{25}, \\frac{33}{25}, \\frac{7}{5}, \\frac{37}{25}, \\frac{39}{25}, \\frac{41}{25}, \\frac{43}{25}, \\frac{9}{5}, \\frac{47}{25}, \\frac{49}{25}, \\frac{51}{25}, \\frac{53}{25}, \\frac{11}{5}, \\frac{57}{25}, \\frac{59}{25}, \\frac{61}{25}, \\frac{63}{25}, \\frac{13}{5}, \\frac{67}{25}, \\frac{69}{25}, \\frac{71}{25}, \\frac{73}{25}, 3\\right]\\)</html>"
      ],
      "text/latex": [
       "$\\displaystyle \\left[1, \\frac{27}{25}, \\frac{29}{25}, \\frac{31}{25}, \\frac{33}{25}, \\frac{7}{5}, \\frac{37}{25}, \\frac{39}{25}, \\frac{41}{25}, \\frac{43}{25}, \\frac{9}{5}, \\frac{47}{25}, \\frac{49}{25}, \\frac{51}{25}, \\frac{53}{25}, \\frac{11}{5}, \\frac{57}{25}, \\frac{59}{25}, \\frac{61}{25}, \\frac{63}{25}, \\frac{13}{5}, \\frac{67}{25}, \\frac{69}{25}, \\frac{71}{25}, \\frac{73}{25}, 3\\right]$"
      ],
      "text/plain": [
       "[1,\n",
       " 27/25,\n",
       " 29/25,\n",
       " 31/25,\n",
       " 33/25,\n",
       " 7/5,\n",
       " 37/25,\n",
       " 39/25,\n",
       " 41/25,\n",
       " 43/25,\n",
       " 9/5,\n",
       " 47/25,\n",
       " 49/25,\n",
       " 51/25,\n",
       " 53/25,\n",
       " 11/5,\n",
       " 57/25,\n",
       " 59/25,\n",
       " 61/25,\n",
       " 63/25,\n",
       " 13/5,\n",
       " 67/25,\n",
       " 69/25,\n",
       " 71/25,\n",
       " 73/25,\n",
       " 3]"
      ]
     },
     "metadata": {},
     "output_type": "display_data"
    }
   ],
   "source": [
    "X=[a+k*(b-a)/n for k in range(0,n+1)]\n",
    "show(X)"
   ]
  },
  {
   "cell_type": "markdown",
   "metadata": {},
   "source": [
    "El valor aproximado de la integral usando el Método del trapecio es:"
   ]
  },
  {
   "cell_type": "code",
   "execution_count": 4,
   "metadata": {},
   "outputs": [
    {
     "data": {
      "text/plain": [
       "-0.217003929737339"
      ]
     },
     "execution_count": 4,
     "metadata": {},
     "output_type": "execute_result"
    }
   ],
   "source": [
    "trapecio=(b-a)/(2*n)*(f(a)+2*sum(f(X[k]) for k in range(1,n))+f(b))\n",
    "trapecio.n()"
   ]
  },
  {
   "cell_type": "markdown",
   "metadata": {},
   "source": [
    "Veamos el significado de lo que acabamos de calcular: informalmente hablando, se suma el área encima del eje X y se resta la de debajo"
   ]
  },
  {
   "cell_type": "code",
   "execution_count": 5,
   "metadata": {},
   "outputs": [
    {
     "data": {
      "image/png": "[encoded data removed]",
      "text/plain": [
       "Graphics object consisting of 2 graphics primitives"
      ]
     },
     "execution_count": 5,
     "metadata": {},
     "output_type": "execute_result"
    }
   ],
   "source": [
    "plot(f,x,a,b,fill=true)"
   ]
  },
  {
   "cell_type": "markdown",
   "metadata": {},
   "source": [
    "### (b) Da una cota superior teórica del error absoluto de la aproximación obtenida en (a):\n",
    "\n",
    "### Cota del error en el Método del Trapecio \n",
    "La cota del error absoluto cometido en el Método del Trapecio la podemos dar de la siguiente forma: \n",
    "\n",
    "Dada una constante M de forma que $|f''(x)|\\leq M$ para todo $x\\in [a,b]$. \n",
    "$$\\displaystyle \\left| {\\rm Trapecio}_{n}(f)-\\int_a^b f(x) \\, dx\\right| \\leq \\dfrac{(b-a)^3}{12\\cdot n^2}\\cdot M $$\n",
    "\n",
    "Para determinar $M$ calculamos $f''(x)$ y la representamos gráficamente en $[a,b]$:"
   ]
  },
  {
   "cell_type": "code",
   "execution_count": 6,
   "metadata": {},
   "outputs": [
    {
     "data": {
      "text/html": [
       "<html>\\(\\displaystyle -\\frac{\\cos\\left(x\\right)}{x} + \\frac{2 \\, \\sin\\left(x\\right)}{x^{2}} + \\frac{2 \\, \\cos\\left(x\\right)}{x^{3}}\\)</html>"
      ],
      "text/latex": [
       "$\\displaystyle -\\frac{\\cos\\left(x\\right)}{x} + \\frac{2 \\, \\sin\\left(x\\right)}{x^{2}} + \\frac{2 \\, \\cos\\left(x\\right)}{x^{3}}$"
      ],
      "text/plain": [
       "-cos(x)/x + 2*sin(x)/x^2 + 2*cos(x)/x^3"
      ]
     },
     "metadata": {},
     "output_type": "display_data"
    }
   ],
   "source": [
    "show(derivative(f(x),x,2))"
   ]
  },
  {
   "cell_type": "code",
   "execution_count": 7,
   "metadata": {},
   "outputs": [
    {
     "data": {
      "image/png": "[encoded data removed]",
      "text/plain": [
       "Graphics object consisting of 2 graphics primitives"
      ]
     },
     "execution_count": 7,
     "metadata": {},
     "output_type": "execute_result"
    }
   ],
   "source": [
    "plot(abs(derivative(f(x),x,2)),a,b)+plot(2.25,a,b,color='red')"
   ]
  },
  {
   "cell_type": "markdown",
   "metadata": {},
   "source": [
    "<p>En esta gráfica se observa que la constante $M=2.25$ cumple $|f''(x)|\\leq M$ para todo $x\\in [a,b]$.</p>\n",
    "<p>Por tanto, una cota superior del error absoluto cometido es:</p>"
   ]
  },
  {
   "cell_type": "code",
   "execution_count": 8,
   "metadata": {},
   "outputs": [
    {
     "data": {
      "text/plain": [
       "0.00240000000000000"
      ]
     },
     "execution_count": 8,
     "metadata": {},
     "output_type": "execute_result"
    }
   ],
   "source": [
    "M=2.25;\n",
    "cota=(b-a)^3/(12*n^2)*M;\n",
    "cota"
   ]
  },
  {
   "cell_type": "markdown",
   "metadata": {},
   "source": [
    "### (c) Compara tu aproximación con la calculada por SAGE y representa gráficamente el problema.\n",
    "\n",
    "\n",
    "Vamos a comprobar que efectivamente el error cometido es menor que la cota encontrada. Para ello comparamos nuestro resultado con el Método del Trapecio con el dado por el propio SAGE,"
   ]
  },
  {
   "cell_type": "code",
   "execution_count": 9,
   "metadata": {},
   "outputs": [
    {
     "data": {
      "text/plain": [
       "-0.217774136892968"
      ]
     },
     "execution_count": 9,
     "metadata": {},
     "output_type": "execute_result"
    }
   ],
   "source": [
    "integral(f(x),x,a,b).n()"
   ]
  },
  {
   "cell_type": "code",
   "execution_count": 10,
   "metadata": {},
   "outputs": [
    {
     "data": {
      "text/plain": [
       "-0.217003929737339"
      ]
     },
     "execution_count": 10,
     "metadata": {},
     "output_type": "execute_result"
    }
   ],
   "source": [
    "trapecio.n()"
   ]
  },
  {
   "cell_type": "markdown",
   "metadata": {},
   "source": [
    "<p>y la comparamos con el resultado obtenido por el método del trapecio calculando el valor absoluto de la diferencia:</p>"
   ]
  },
  {
   "cell_type": "code",
   "execution_count": 11,
   "metadata": {},
   "outputs": [
    {
     "data": {
      "text/plain": [
       "0.000770207155628345"
      ]
     },
     "execution_count": 11,
     "metadata": {},
     "output_type": "execute_result"
    }
   ],
   "source": [
    "error=abs(trapecio-integral(f(x),x,a,b));\n",
    "error.n()"
   ]
  },
  {
   "cell_type": "markdown",
   "metadata": {},
   "source": [
    "que es menor que la cota, lo comprobamos:"
   ]
  },
  {
   "cell_type": "code",
   "execution_count": 12,
   "metadata": {},
   "outputs": [
    {
     "data": {
      "text/plain": [
       "True"
      ]
     },
     "execution_count": 12,
     "metadata": {},
     "output_type": "execute_result"
    }
   ],
   "source": [
    "error.n()<cota"
   ]
  },
  {
   "cell_type": "markdown",
   "metadata": {},
   "source": [
    "Para ver gráficamente lo qué hemos calculado con el método del TRAPECIO calculamos la integral definida por la función interpoladora lineal a trozos en los nodos considerados, en rojo."
   ]
  },
  {
   "cell_type": "code",
   "execution_count": 13,
   "metadata": {},
   "outputs": [
    {
     "data": {
      "text/html": [
       "<html>\\(\\displaystyle \\left[1, \\frac{27}{25}, \\frac{29}{25}, \\frac{31}{25}, \\frac{33}{25}, \\frac{7}{5}, \\frac{37}{25}, \\frac{39}{25}, \\frac{41}{25}, \\frac{43}{25}, \\frac{9}{5}, \\frac{47}{25}, \\frac{49}{25}, \\frac{51}{25}, \\frac{53}{25}, \\frac{11}{5}, \\frac{57}{25}, \\frac{59}{25}, \\frac{61}{25}, \\frac{63}{25}, \\frac{13}{5}, \\frac{67}{25}, \\frac{69}{25}, \\frac{71}{25}, \\frac{73}{25}, 3\\right]\\)</html>"
      ],
      "text/latex": [
       "$\\displaystyle \\left[1, \\frac{27}{25}, \\frac{29}{25}, \\frac{31}{25}, \\frac{33}{25}, \\frac{7}{5}, \\frac{37}{25}, \\frac{39}{25}, \\frac{41}{25}, \\frac{43}{25}, \\frac{9}{5}, \\frac{47}{25}, \\frac{49}{25}, \\frac{51}{25}, \\frac{53}{25}, \\frac{11}{5}, \\frac{57}{25}, \\frac{59}{25}, \\frac{61}{25}, \\frac{63}{25}, \\frac{13}{5}, \\frac{67}{25}, \\frac{69}{25}, \\frac{71}{25}, \\frac{73}{25}, 3\\right]$"
      ],
      "text/plain": [
       "[1,\n",
       " 27/25,\n",
       " 29/25,\n",
       " 31/25,\n",
       " 33/25,\n",
       " 7/5,\n",
       " 37/25,\n",
       " 39/25,\n",
       " 41/25,\n",
       " 43/25,\n",
       " 9/5,\n",
       " 47/25,\n",
       " 49/25,\n",
       " 51/25,\n",
       " 53/25,\n",
       " 11/5,\n",
       " 57/25,\n",
       " 59/25,\n",
       " 61/25,\n",
       " 63/25,\n",
       " 13/5,\n",
       " 67/25,\n",
       " 69/25,\n",
       " 71/25,\n",
       " 73/25,\n",
       " 3]"
      ]
     },
     "metadata": {},
     "output_type": "display_data"
    }
   ],
   "source": [
    "show(X) \n",
    "XY=[(X[j],f(X[j])) for j in range(0,n+1)]; \n",
    "r(c,d,x)=(f(d)-f(c))/(d-c)*(x-c)+f(c)\n",
    "L=piecewise([[(X[j],X[j+1]),r(X[j],X[j+1],x)] for j in range(0,n)],var=x);"
   ]
  },
  {
   "cell_type": "code",
   "execution_count": 14,
   "metadata": {},
   "outputs": [
    {
     "data": {
      "image/png": "[encoded data removed]",
      "text/plain": [
       "Graphics object consisting of 4 graphics primitives"
      ]
     },
     "execution_count": 14,
     "metadata": {},
     "output_type": "execute_result"
    }
   ],
   "source": [
    "point2d(XY,size=50,color='red')+plot(f,a,b)+plot(L(x),a,b,color='red',fill=true)\n",
    "#el fill está evidentemente en el plot de L"
   ]
  }
 ],
 "metadata": {
  "kernelspec": {
   "display_name": "SageMath 9.0",
   "language": "sage",
   "name": "sagemath"
  },
  "language": "python",
  "language_info": {
   "codemirror_mode": {
    "name": "ipython",
    "version": 3
   },
   "file_extension": ".py",
   "mimetype": "text/x-python",
   "name": "python",
   "nbconvert_exporter": "python",
   "pygments_lexer": "ipython3",
   "version": "3.8.10"
  }
 },
 "nbformat": 4,
 "nbformat_minor": 4
}
